{
  "nbformat": 4,
  "nbformat_minor": 0,
  "metadata": {
    "colab": {
      "name": "Copy of NYC Taxi Trip Time Prediction - Capstone Project.ipynb",
      "provenance": [],
      "collapsed_sections": []
    },
    "kernelspec": {
      "display_name": "Python 3",
      "language": "python",
      "name": "python3"
    },
    "language_info": {
      "codemirror_mode": {
        "name": "ipython",
        "version": 3
      },
      "file_extension": ".py",
      "mimetype": "text/x-python",
      "name": "python",
      "nbconvert_exporter": "python",
      "pygments_lexer": "ipython3",
      "version": "3.6.6"
    }
  },
  "cells": [
    {
      "cell_type": "markdown",
      "metadata": {
        "id": "tOGC-qoyhJeX"
      },
      "source": [
        "# <b><u> Project Title : Taxi trip time Prediction : Predicting total ride duration of taxi trips in New York City</u></b>"
      ]
    },
    {
      "cell_type": "markdown",
      "metadata": {
        "id": "Y06xIdG26kRF"
      },
      "source": [
        "## <b> Problem Description </b>\n",
        "\n",
        "### Your task is to build a model that predicts the total ride duration of taxi trips in New York City. Your primary dataset is one released by the NYC Taxi and Limousine Commission, which includes pickup time, geo-coordinates, number of passengers, and several other variables."
      ]
    },
    {
      "cell_type": "markdown",
      "metadata": {
        "id": "WWeU1f9bwqQq"
      },
      "source": [
        "## <b> Data Description </b>\n",
        "\n",
        "### The dataset is based on the 2016 NYC Yellow Cab trip record data made available in Big Query on Google Cloud Platform. The data was originally published by the NYC Taxi and Limousine Commission (TLC). The data was sampled and cleaned for the purposes of this project. Based on individual trip attributes, you should predict the duration of each trip in the test set.\n",
        "\n",
        "### <b>NYC Taxi Data.csv</b> - the training set (contains 1458644 trip records)\n",
        "\n",
        "\n",
        "### Data fields\n",
        "* #### id - a unique identifier for each trip\n",
        "* #### vendor_id - a code indicating the provider associated with the trip record\n",
        "* #### pickup_datetime - date and time when the meter was engaged\n",
        "* #### dropoff_datetime - date and time when the meter was disengaged\n",
        "* #### passenger_count - the number of passengers in the vehicle (driver entered value)\n",
        "* #### pickup_longitude - the longitude where the meter was engaged\n",
        "* #### pickup_latitude - the latitude where the meter was engaged\n",
        "* #### dropoff_longitude - the longitude where the meter was disengaged\n",
        "* #### dropoff_latitude - the latitude where the meter was disengaged\n",
        "* #### store_and_fwd_flag - This flag indicates whether the trip record was held in vehicle memory before sending to the vendor because the vehicle did not have a connection to the server - Y=store and forward; N=not a store and forward trip\n",
        "* #### trip_duration - duration of the trip in seconds"
      ]
    },
    {
      "cell_type": "code",
      "metadata": {
        "id": "dByMsuzT8Tnw",
        "colab": {
          "base_uri": "https://localhost:8080/"
        },
        "outputId": "d7b0f16d-319d-4c55-fae2-da6979537cc5"
      },
      "source": [
        "import numpy as np\n",
        "import pandas as pd\n",
        "from numpy import math\n",
        "from geopy.distance import great_circle\n",
        "import statsmodels.api as sm\n",
        "from sklearn.preprocessing import MinMaxScaler\n",
        "from sklearn.model_selection import train_test_split\n",
        "from sklearn.linear_model import LinearRegression\n",
        "from sklearn.metrics import r2_score\n",
        "from sklearn.metrics import mean_squared_error\n",
        "import seaborn as sns\n",
        "import matplotlib.pyplot as plt\n",
        "import warnings\n",
        "warnings.filterwarnings('ignore')"
      ],
      "execution_count": null,
      "outputs": [
        {
          "output_type": "stream",
          "text": [
            "/usr/local/lib/python3.7/dist-packages/statsmodels/tools/_testing.py:19: FutureWarning: pandas.util.testing is deprecated. Use the functions in the public API at pandas.testing instead.\n",
            "  import pandas.util.testing as tm\n"
          ],
          "name": "stderr"
        }
      ]
    },
    {
      "cell_type": "code",
      "metadata": {
        "colab": {
          "base_uri": "https://localhost:8080/"
        },
        "id": "v2FkZPSZAj3o",
        "outputId": "70582c86-1767-4169-fb8c-cb4441f70f92"
      },
      "source": [
        "from google.colab import drive\n",
        "drive.mount('/content/drive')"
      ],
      "execution_count": null,
      "outputs": [
        {
          "output_type": "stream",
          "text": [
            "Mounted at /content/drive\n"
          ],
          "name": "stdout"
        }
      ]
    },
    {
      "cell_type": "code",
      "metadata": {
        "id": "L_SKcdwmBBjo"
      },
      "source": [
        "working_dir_path= \"/content/drive/MyDrive/NYC Taxi Data.csv\"\n",
        "data= pd.read_csv(working_dir_path)"
      ],
      "execution_count": null,
      "outputs": []
    },
    {
      "cell_type": "code",
      "metadata": {
        "id": "ZZ9WptjydSox"
      },
      "source": [
        "working_path= \"/content/drive/MyDrive/nybb.csv\"\n",
        "boundary= pd.read_csv(working_path)"
      ],
      "execution_count": null,
      "outputs": []
    },
    {
      "cell_type": "markdown",
      "metadata": {
        "id": "gZJRab0OFsxi"
      },
      "source": [
        "# **Data Exploration**"
      ]
    },
    {
      "cell_type": "code",
      "metadata": {
        "colab": {
          "base_uri": "https://localhost:8080/",
          "height": 309
        },
        "id": "VPaHCz24FH9T",
        "outputId": "360dab5d-3ccb-47f1-d07c-4bbc28769342"
      },
      "source": [
        "data.head()"
      ],
      "execution_count": null,
      "outputs": [
        {
          "output_type": "execute_result",
          "data": {
            "text/html": [
              "<div>\n",
              "<style scoped>\n",
              "    .dataframe tbody tr th:only-of-type {\n",
              "        vertical-align: middle;\n",
              "    }\n",
              "\n",
              "    .dataframe tbody tr th {\n",
              "        vertical-align: top;\n",
              "    }\n",
              "\n",
              "    .dataframe thead th {\n",
              "        text-align: right;\n",
              "    }\n",
              "</style>\n",
              "<table border=\"1\" class=\"dataframe\">\n",
              "  <thead>\n",
              "    <tr style=\"text-align: right;\">\n",
              "      <th></th>\n",
              "      <th>id</th>\n",
              "      <th>vendor_id</th>\n",
              "      <th>pickup_datetime</th>\n",
              "      <th>dropoff_datetime</th>\n",
              "      <th>passenger_count</th>\n",
              "      <th>pickup_longitude</th>\n",
              "      <th>pickup_latitude</th>\n",
              "      <th>dropoff_longitude</th>\n",
              "      <th>dropoff_latitude</th>\n",
              "      <th>store_and_fwd_flag</th>\n",
              "      <th>trip_duration</th>\n",
              "    </tr>\n",
              "  </thead>\n",
              "  <tbody>\n",
              "    <tr>\n",
              "      <th>0</th>\n",
              "      <td>id2875421</td>\n",
              "      <td>2</td>\n",
              "      <td>2016-03-14 17:24:55</td>\n",
              "      <td>2016-03-14 17:32:30</td>\n",
              "      <td>1</td>\n",
              "      <td>-73.982155</td>\n",
              "      <td>40.767937</td>\n",
              "      <td>-73.964630</td>\n",
              "      <td>40.765602</td>\n",
              "      <td>N</td>\n",
              "      <td>455</td>\n",
              "    </tr>\n",
              "    <tr>\n",
              "      <th>1</th>\n",
              "      <td>id2377394</td>\n",
              "      <td>1</td>\n",
              "      <td>2016-06-12 00:43:35</td>\n",
              "      <td>2016-06-12 00:54:38</td>\n",
              "      <td>1</td>\n",
              "      <td>-73.980415</td>\n",
              "      <td>40.738564</td>\n",
              "      <td>-73.999481</td>\n",
              "      <td>40.731152</td>\n",
              "      <td>N</td>\n",
              "      <td>663</td>\n",
              "    </tr>\n",
              "    <tr>\n",
              "      <th>2</th>\n",
              "      <td>id3858529</td>\n",
              "      <td>2</td>\n",
              "      <td>2016-01-19 11:35:24</td>\n",
              "      <td>2016-01-19 12:10:48</td>\n",
              "      <td>1</td>\n",
              "      <td>-73.979027</td>\n",
              "      <td>40.763939</td>\n",
              "      <td>-74.005333</td>\n",
              "      <td>40.710087</td>\n",
              "      <td>N</td>\n",
              "      <td>2124</td>\n",
              "    </tr>\n",
              "    <tr>\n",
              "      <th>3</th>\n",
              "      <td>id3504673</td>\n",
              "      <td>2</td>\n",
              "      <td>2016-04-06 19:32:31</td>\n",
              "      <td>2016-04-06 19:39:40</td>\n",
              "      <td>1</td>\n",
              "      <td>-74.010040</td>\n",
              "      <td>40.719971</td>\n",
              "      <td>-74.012268</td>\n",
              "      <td>40.706718</td>\n",
              "      <td>N</td>\n",
              "      <td>429</td>\n",
              "    </tr>\n",
              "    <tr>\n",
              "      <th>4</th>\n",
              "      <td>id2181028</td>\n",
              "      <td>2</td>\n",
              "      <td>2016-03-26 13:30:55</td>\n",
              "      <td>2016-03-26 13:38:10</td>\n",
              "      <td>1</td>\n",
              "      <td>-73.973053</td>\n",
              "      <td>40.793209</td>\n",
              "      <td>-73.972923</td>\n",
              "      <td>40.782520</td>\n",
              "      <td>N</td>\n",
              "      <td>435</td>\n",
              "    </tr>\n",
              "  </tbody>\n",
              "</table>\n",
              "</div>"
            ],
            "text/plain": [
              "          id  vendor_id  ... store_and_fwd_flag trip_duration\n",
              "0  id2875421          2  ...                  N           455\n",
              "1  id2377394          1  ...                  N           663\n",
              "2  id3858529          2  ...                  N          2124\n",
              "3  id3504673          2  ...                  N           429\n",
              "4  id2181028          2  ...                  N           435\n",
              "\n",
              "[5 rows x 11 columns]"
            ]
          },
          "metadata": {
            "tags": []
          },
          "execution_count": 5
        }
      ]
    },
    {
      "cell_type": "code",
      "metadata": {
        "colab": {
          "base_uri": "https://localhost:8080/"
        },
        "id": "62plf0lAF-wT",
        "outputId": "ba667f73-d85f-4a5e-bd0f-4b7fe845313c"
      },
      "source": [
        "data.info()"
      ],
      "execution_count": null,
      "outputs": [
        {
          "output_type": "stream",
          "text": [
            "<class 'pandas.core.frame.DataFrame'>\n",
            "RangeIndex: 1458644 entries, 0 to 1458643\n",
            "Data columns (total 11 columns):\n",
            " #   Column              Non-Null Count    Dtype  \n",
            "---  ------              --------------    -----  \n",
            " 0   id                  1458644 non-null  object \n",
            " 1   vendor_id           1458644 non-null  int64  \n",
            " 2   pickup_datetime     1458644 non-null  object \n",
            " 3   dropoff_datetime    1458644 non-null  object \n",
            " 4   passenger_count     1458644 non-null  int64  \n",
            " 5   pickup_longitude    1458644 non-null  float64\n",
            " 6   pickup_latitude     1458644 non-null  float64\n",
            " 7   dropoff_longitude   1458644 non-null  float64\n",
            " 8   dropoff_latitude    1458644 non-null  float64\n",
            " 9   store_and_fwd_flag  1458644 non-null  object \n",
            " 10  trip_duration       1458644 non-null  int64  \n",
            "dtypes: float64(4), int64(3), object(4)\n",
            "memory usage: 122.4+ MB\n"
          ],
          "name": "stdout"
        }
      ]
    },
    {
      "cell_type": "markdown",
      "metadata": {
        "id": "f-B6mROdL-GG"
      },
      "source": [
        "Pickup_datetime and dropoff_datetime are both objects. Hence it should be converted to datetime to run functions if and when necessary"
      ]
    },
    {
      "cell_type": "code",
      "metadata": {
        "colab": {
          "base_uri": "https://localhost:8080/"
        },
        "id": "EfTHP3mFGyCo",
        "outputId": "f7c3a410-b479-447c-e593-5548ddecb737"
      },
      "source": [
        "data.shape"
      ],
      "execution_count": null,
      "outputs": [
        {
          "output_type": "execute_result",
          "data": {
            "text/plain": [
              "(1458644, 11)"
            ]
          },
          "metadata": {
            "tags": []
          },
          "execution_count": 7
        }
      ]
    },
    {
      "cell_type": "code",
      "metadata": {
        "colab": {
          "base_uri": "https://localhost:8080/"
        },
        "id": "ZsEY3RpfG32g",
        "outputId": "43a40185-af3e-4e31-ae5f-5995f22dc3ec"
      },
      "source": [
        "print(\"There are %d unique id's in Training dataset, which is equal to the number of records\"%(data.id.nunique()))"
      ],
      "execution_count": null,
      "outputs": [
        {
          "output_type": "stream",
          "text": [
            "There are 1458644 unique id's in Training dataset, which is equal to the number of records\n"
          ],
          "name": "stdout"
        }
      ]
    },
    {
      "cell_type": "code",
      "metadata": {
        "colab": {
          "base_uri": "https://localhost:8080/"
        },
        "id": "2d7y1ml8HALR",
        "outputId": "f9c6e50a-338a-47db-b254-b2ba7b9f2dcc"
      },
      "source": [
        "data.isnull().sum()"
      ],
      "execution_count": null,
      "outputs": [
        {
          "output_type": "execute_result",
          "data": {
            "text/plain": [
              "id                    0\n",
              "vendor_id             0\n",
              "pickup_datetime       0\n",
              "dropoff_datetime      0\n",
              "passenger_count       0\n",
              "pickup_longitude      0\n",
              "pickup_latitude       0\n",
              "dropoff_longitude     0\n",
              "dropoff_latitude      0\n",
              "store_and_fwd_flag    0\n",
              "trip_duration         0\n",
              "dtype: int64"
            ]
          },
          "metadata": {
            "tags": []
          },
          "execution_count": 9
        }
      ]
    },
    {
      "cell_type": "code",
      "metadata": {
        "id": "HNwgAMqnLxuC"
      },
      "source": [
        "data['pickup_datetime']=pd.to_datetime(data['pickup_datetime'])\n",
        "data['dropoff_datetime']=pd.to_datetime(data['dropoff_datetime'])"
      ],
      "execution_count": null,
      "outputs": []
    },
    {
      "cell_type": "code",
      "metadata": {
        "id": "I-zuTzdrSPfN"
      },
      "source": [
        "#extraction for detailed analysis\n",
        "data['up_weekday'] = data.pickup_datetime.dt.day_name()\n",
        "data['up_month'] = data.pickup_datetime.dt.month\n",
        "data['pickup_hour'] = data.pickup_datetime.dt.hour\n",
        "data['off_weekday'] = data.dropoff_datetime.dt.day_name()\n",
        "data['off_month'] = data.dropoff_datetime.dt.month\n",
        "data['dropoff_hour'] = data.dropoff_datetime.dt.hour"
      ],
      "execution_count": null,
      "outputs": []
    },
    {
      "cell_type": "code",
      "metadata": {
        "id": "wK3HLS6ufNSC"
      },
      "source": [
        "#distance calculation function\n",
        "def cal_distance(up_lat,up_long,off_lat,off_long):\n",
        " start=(up_lat,up_long)\n",
        " stop=(off_lat,off_long)\n",
        " return great_circle(start,stop).km"
      ],
      "execution_count": null,
      "outputs": []
    },
    {
      "cell_type": "code",
      "metadata": {
        "id": "jkwDC1D2fwax"
      },
      "source": [
        "data['distance'] = data.apply(lambda x: cal_distance(x['pickup_latitude'],x['pickup_longitude'],x['dropoff_latitude'],x['dropoff_longitude']),axis=1)"
      ],
      "execution_count": null,
      "outputs": []
    },
    {
      "cell_type": "code",
      "metadata": {
        "id": "oymQ1m-DxPu7"
      },
      "source": [
        "#putting location co-ordinates for pickup and dropoff in two separate columns only\n",
        "def coords(latitude,longitude):\n",
        "  return [latitude,longitude] "
      ],
      "execution_count": null,
      "outputs": []
    },
    {
      "cell_type": "code",
      "metadata": {
        "id": "OKAl4N_SxDAl"
      },
      "source": [
        "data['pickup']= data.apply(lambda y: coords(y['pickup_latitude'],y['pickup_longitude']),axis=1)"
      ],
      "execution_count": null,
      "outputs": []
    },
    {
      "cell_type": "code",
      "metadata": {
        "id": "GcuZsE-lyKB4"
      },
      "source": [
        "data['dropoff']= data.apply(lambda z: coords(z['dropoff_latitude'],z['dropoff_longitude']),axis=1)"
      ],
      "execution_count": null,
      "outputs": []
    },
    {
      "cell_type": "code",
      "metadata": {
        "colab": {
          "base_uri": "https://localhost:8080/"
        },
        "id": "awtkFP_xTJ3q",
        "outputId": "e98e77bf-ff4a-4808-87e1-533e3676a1f3"
      },
      "source": [
        "data.passenger_count.value_counts()"
      ],
      "execution_count": null,
      "outputs": [
        {
          "output_type": "execute_result",
          "data": {
            "text/plain": [
              "1    1033540\n",
              "2     210318\n",
              "5      78088\n",
              "3      59896\n",
              "6      48333\n",
              "4      28404\n",
              "0         60\n",
              "7          3\n",
              "9          1\n",
              "8          1\n",
              "Name: passenger_count, dtype: int64"
            ]
          },
          "metadata": {
            "tags": []
          },
          "execution_count": 17
        }
      ]
    },
    {
      "cell_type": "code",
      "metadata": {
        "id": "7RU5zsY9TuzG"
      },
      "source": [
        "#too less freq of 0,7,8,9 number of passengers, hence dropping outliers\n",
        "data=data[data.passenger_count<=6]\n",
        "data=data[data.passenger_count!=0]"
      ],
      "execution_count": null,
      "outputs": []
    },
    {
      "cell_type": "code",
      "metadata": {
        "colab": {
          "base_uri": "https://localhost:8080/",
          "height": 296
        },
        "id": "-BKnvQxNUhft",
        "outputId": "fbf86848-6f92-49f1-ea46-d19af29b11bc"
      },
      "source": [
        "sns.distplot(data['passenger_count'],kde=False)\n",
        "plt.title('Distribution of Passenger Count')\n",
        "plt.show()"
      ],
      "execution_count": null,
      "outputs": [
        {
          "output_type": "display_data",
          "data": {
            "image/png": "[encoded data removed]",
            "text/plain": [
              "<Figure size 432x288 with 1 Axes>"
            ]
          },
          "metadata": {
            "tags": [],
            "needs_background": "light"
          }
        }
      ]
    },
    {
      "cell_type": "code",
      "metadata": {
        "colab": {
          "base_uri": "https://localhost:8080/",
          "height": 528
        },
        "id": "PXmxbwOtE8sM",
        "outputId": "629f6c68-1016-4198-afc9-365bf4b32a10"
      },
      "source": [
        "sns.set(rc={'figure.figsize':(11.7,8.27)})\n",
        "sns.distplot(data['trip_duration'], bins=5)\n",
        "plt.show()"
      ],
      "execution_count": null,
      "outputs": [
        {
          "output_type": "display_data",
          "data": {
            "image/png": "[encoded data removed]",
            "text/plain": [
              "<Figure size 842.4x595.44 with 1 Axes>"
            ]
          },
          "metadata": {
            "tags": []
          }
        }
      ]
    },
    {
      "cell_type": "code",
      "metadata": {
        "id": "fjMztFVw-t7g"
      },
      "source": [
        "data['duration']= data['trip_duration']/3600"
      ],
      "execution_count": null,
      "outputs": []
    },
    {
      "cell_type": "code",
      "metadata": {
        "colab": {
          "base_uri": "https://localhost:8080/",
          "height": 500
        },
        "id": "Xuy-TkJ6IRuV",
        "outputId": "855c963f-5844-4332-bef2-eef43e79ee50"
      },
      "source": [
        "# distance- duration plotting\n",
        "plt.yticks(ticks = np.arange(0, 1000, 20))\n",
        "plt.scatter(x = data['distance'], y=data['duration'])\n",
        "plt.show()"
      ],
      "execution_count": null,
      "outputs": [
        {
          "output_type": "display_data",
          "data": {
            "image/png": "[encoded data removed]",
            "text/plain": [
              "<Figure size 842.4x595.44 with 1 Axes>"
            ]
          },
          "metadata": {
            "tags": []
          }
        }
      ]
    },
    {
      "cell_type": "markdown",
      "metadata": {
        "id": "ewNyIb7J2w9h"
      },
      "source": [
        "**EXTENSIVE OUTLIERS**"
      ]
    },
    {
      "cell_type": "markdown",
      "metadata": {
        "id": "CWYidFpWGS4E"
      },
      "source": [
        "Extensive outliers, which are need to be eliminated as a few trips were continued for above 200 hours, which is a highly unlikely data and can easily bring about problems during regression"
      ]
    },
    {
      "cell_type": "code",
      "metadata": {
        "colab": {
          "base_uri": "https://localhost:8080/"
        },
        "id": "bwaS5zlnZA5I",
        "outputId": "828b3aaf-823e-4555-d5d0-3d6665c18578"
      },
      "source": [
        "#checking duration recorded over 100 hours\n",
        "o=len(data[data.duration>=100])\n",
        "o"
      ],
      "execution_count": null,
      "outputs": [
        {
          "output_type": "execute_result",
          "data": {
            "text/plain": [
              "4"
            ]
          },
          "metadata": {
            "tags": []
          },
          "execution_count": 23
        }
      ]
    },
    {
      "cell_type": "code",
      "metadata": {
        "id": "JTh08TgbI7-h"
      },
      "source": [
        "#throwing away impossible rides\n",
        "index_imp = data[ data['duration'] >= 100 ].index\n",
        "data.drop(index_imp, inplace = True)"
      ],
      "execution_count": null,
      "outputs": []
    },
    {
      "cell_type": "code",
      "metadata": {
        "id": "ccpIpmceIyy3",
        "colab": {
          "base_uri": "https://localhost:8080/"
        },
        "outputId": "833aa53f-1ec5-4656-cc5c-2ceee2cd1ef9"
      },
      "source": [
        "#checking the rest of the data, especially trips that took over 5 hours; a city ride above 5 hours does sound fishy\n",
        "ox=len(data[data.duration>=5])\n",
        "ox"
      ],
      "execution_count": null,
      "outputs": [
        {
          "output_type": "execute_result",
          "data": {
            "text/plain": [
              "2067"
            ]
          },
          "metadata": {
            "tags": []
          },
          "execution_count": 25
        }
      ]
    },
    {
      "cell_type": "code",
      "metadata": {
        "colab": {
          "base_uri": "https://localhost:8080/",
          "height": 609
        },
        "id": "7YVhCCXpZDfQ",
        "outputId": "53314e9c-a87c-4b15-a4c0-8c43817bb426"
      },
      "source": [
        "#extracting such data to check plausibility \n",
        "k= data.loc[data['duration']>=5]\n",
        "k"
      ],
      "execution_count": null,
      "outputs": [
        {
          "output_type": "execute_result",
          "data": {
            "text/html": [
              "<div>\n",
              "<style scoped>\n",
              "    .dataframe tbody tr th:only-of-type {\n",
              "        vertical-align: middle;\n",
              "    }\n",
              "\n",
              "    .dataframe tbody tr th {\n",
              "        vertical-align: top;\n",
              "    }\n",
              "\n",
              "    .dataframe thead th {\n",
              "        text-align: right;\n",
              "    }\n",
              "</style>\n",
              "<table border=\"1\" class=\"dataframe\">\n",
              "  <thead>\n",
              "    <tr style=\"text-align: right;\">\n",
              "      <th></th>\n",
              "      <th>id</th>\n",
              "      <th>vendor_id</th>\n",
              "      <th>pickup_datetime</th>\n",
              "      <th>dropoff_datetime</th>\n",
              "      <th>passenger_count</th>\n",
              "      <th>pickup_longitude</th>\n",
              "      <th>pickup_latitude</th>\n",
              "      <th>dropoff_longitude</th>\n",
              "      <th>dropoff_latitude</th>\n",
              "      <th>store_and_fwd_flag</th>\n",
              "      <th>trip_duration</th>\n",
              "      <th>up_weekday</th>\n",
              "      <th>up_month</th>\n",
              "      <th>pickup_hour</th>\n",
              "      <th>off_weekday</th>\n",
              "      <th>off_month</th>\n",
              "      <th>dropoff_hour</th>\n",
              "      <th>distance</th>\n",
              "      <th>pickup</th>\n",
              "      <th>dropoff</th>\n",
              "      <th>duration</th>\n",
              "    </tr>\n",
              "  </thead>\n",
              "  <tbody>\n",
              "    <tr>\n",
              "      <th>531</th>\n",
              "      <td>id3307903</td>\n",
              "      <td>2</td>\n",
              "      <td>2016-02-20 04:03:06</td>\n",
              "      <td>2016-02-21 03:33:00</td>\n",
              "      <td>3</td>\n",
              "      <td>-74.008102</td>\n",
              "      <td>40.741489</td>\n",
              "      <td>-74.009956</td>\n",
              "      <td>40.714611</td>\n",
              "      <td>N</td>\n",
              "      <td>84594</td>\n",
              "      <td>Saturday</td>\n",
              "      <td>2</td>\n",
              "      <td>4</td>\n",
              "      <td>Sunday</td>\n",
              "      <td>2</td>\n",
              "      <td>3</td>\n",
              "      <td>2.992821</td>\n",
              "      <td>[40.74148941040039, -74.00810241699219]</td>\n",
              "      <td>[40.7146110534668, -74.00995635986328]</td>\n",
              "      <td>23.498333</td>\n",
              "    </tr>\n",
              "    <tr>\n",
              "      <th>1134</th>\n",
              "      <td>id1091477</td>\n",
              "      <td>2</td>\n",
              "      <td>2016-05-07 18:36:22</td>\n",
              "      <td>2016-05-08 18:32:11</td>\n",
              "      <td>1</td>\n",
              "      <td>-73.990242</td>\n",
              "      <td>40.750919</td>\n",
              "      <td>-73.976280</td>\n",
              "      <td>40.750889</td>\n",
              "      <td>N</td>\n",
              "      <td>86149</td>\n",
              "      <td>Saturday</td>\n",
              "      <td>5</td>\n",
              "      <td>18</td>\n",
              "      <td>Sunday</td>\n",
              "      <td>5</td>\n",
              "      <td>18</td>\n",
              "      <td>1.176095</td>\n",
              "      <td>[40.750919342041016, -73.99024200439453]</td>\n",
              "      <td>[40.75088882446289, -73.97628021240234]</td>\n",
              "      <td>23.930278</td>\n",
              "    </tr>\n",
              "    <tr>\n",
              "      <th>1865</th>\n",
              "      <td>id3431345</td>\n",
              "      <td>2</td>\n",
              "      <td>2016-06-07 12:58:48</td>\n",
              "      <td>2016-06-08 12:58:00</td>\n",
              "      <td>6</td>\n",
              "      <td>-73.954956</td>\n",
              "      <td>40.777649</td>\n",
              "      <td>-73.981033</td>\n",
              "      <td>40.743713</td>\n",
              "      <td>N</td>\n",
              "      <td>86352</td>\n",
              "      <td>Tuesday</td>\n",
              "      <td>6</td>\n",
              "      <td>12</td>\n",
              "      <td>Wednesday</td>\n",
              "      <td>6</td>\n",
              "      <td>12</td>\n",
              "      <td>4.366110</td>\n",
              "      <td>[40.77764892578125, -73.9549560546875]</td>\n",
              "      <td>[40.74371337890625, -73.98103332519531]</td>\n",
              "      <td>23.986667</td>\n",
              "    </tr>\n",
              "    <tr>\n",
              "      <th>3442</th>\n",
              "      <td>id1487069</td>\n",
              "      <td>2</td>\n",
              "      <td>2016-02-13 00:21:49</td>\n",
              "      <td>2016-02-14 00:19:05</td>\n",
              "      <td>1</td>\n",
              "      <td>-73.968590</td>\n",
              "      <td>40.799217</td>\n",
              "      <td>-73.979584</td>\n",
              "      <td>40.784714</td>\n",
              "      <td>N</td>\n",
              "      <td>86236</td>\n",
              "      <td>Saturday</td>\n",
              "      <td>2</td>\n",
              "      <td>0</td>\n",
              "      <td>Sunday</td>\n",
              "      <td>2</td>\n",
              "      <td>0</td>\n",
              "      <td>1.859418</td>\n",
              "      <td>[40.799217224121094, -73.96858978271484]</td>\n",
              "      <td>[40.78471374511719, -73.97958374023438]</td>\n",
              "      <td>23.954444</td>\n",
              "    </tr>\n",
              "    <tr>\n",
              "      <th>4172</th>\n",
              "      <td>id3674870</td>\n",
              "      <td>2</td>\n",
              "      <td>2016-03-18 11:54:20</td>\n",
              "      <td>2016-03-19 11:34:17</td>\n",
              "      <td>1</td>\n",
              "      <td>-73.989090</td>\n",
              "      <td>40.736992</td>\n",
              "      <td>-73.972336</td>\n",
              "      <td>40.751511</td>\n",
              "      <td>N</td>\n",
              "      <td>85197</td>\n",
              "      <td>Friday</td>\n",
              "      <td>3</td>\n",
              "      <td>11</td>\n",
              "      <td>Saturday</td>\n",
              "      <td>3</td>\n",
              "      <td>11</td>\n",
              "      <td>2.144415</td>\n",
              "      <td>[40.73699188232422, -73.9890899658203]</td>\n",
              "      <td>[40.75151062011719, -73.97233581542969]</td>\n",
              "      <td>23.665833</td>\n",
              "    </tr>\n",
              "    <tr>\n",
              "      <th>...</th>\n",
              "      <td>...</td>\n",
              "      <td>...</td>\n",
              "      <td>...</td>\n",
              "      <td>...</td>\n",
              "      <td>...</td>\n",
              "      <td>...</td>\n",
              "      <td>...</td>\n",
              "      <td>...</td>\n",
              "      <td>...</td>\n",
              "      <td>...</td>\n",
              "      <td>...</td>\n",
              "      <td>...</td>\n",
              "      <td>...</td>\n",
              "      <td>...</td>\n",
              "      <td>...</td>\n",
              "      <td>...</td>\n",
              "      <td>...</td>\n",
              "      <td>...</td>\n",
              "      <td>...</td>\n",
              "      <td>...</td>\n",
              "      <td>...</td>\n",
              "    </tr>\n",
              "    <tr>\n",
              "      <th>1455097</th>\n",
              "      <td>id2798196</td>\n",
              "      <td>2</td>\n",
              "      <td>2016-03-20 03:51:36</td>\n",
              "      <td>2016-03-21 00:00:00</td>\n",
              "      <td>2</td>\n",
              "      <td>-73.969299</td>\n",
              "      <td>40.757301</td>\n",
              "      <td>-73.870277</td>\n",
              "      <td>40.709808</td>\n",
              "      <td>N</td>\n",
              "      <td>72504</td>\n",
              "      <td>Sunday</td>\n",
              "      <td>3</td>\n",
              "      <td>3</td>\n",
              "      <td>Monday</td>\n",
              "      <td>3</td>\n",
              "      <td>0</td>\n",
              "      <td>9.874283</td>\n",
              "      <td>[40.757301330566406, -73.96929931640625]</td>\n",
              "      <td>[40.709808349609375, -73.87027740478516]</td>\n",
              "      <td>20.140000</td>\n",
              "    </tr>\n",
              "    <tr>\n",
              "      <th>1456458</th>\n",
              "      <td>id2055880</td>\n",
              "      <td>2</td>\n",
              "      <td>2016-02-08 19:11:31</td>\n",
              "      <td>2016-02-09 19:08:44</td>\n",
              "      <td>3</td>\n",
              "      <td>-73.973282</td>\n",
              "      <td>40.760792</td>\n",
              "      <td>-73.988518</td>\n",
              "      <td>40.764210</td>\n",
              "      <td>N</td>\n",
              "      <td>86233</td>\n",
              "      <td>Monday</td>\n",
              "      <td>2</td>\n",
              "      <td>19</td>\n",
              "      <td>Tuesday</td>\n",
              "      <td>2</td>\n",
              "      <td>19</td>\n",
              "      <td>1.338294</td>\n",
              "      <td>[40.76079177856445, -73.97328186035155]</td>\n",
              "      <td>[40.76420974731445, -73.98851776123048]</td>\n",
              "      <td>23.953611</td>\n",
              "    </tr>\n",
              "    <tr>\n",
              "      <th>1457207</th>\n",
              "      <td>id1910950</td>\n",
              "      <td>2</td>\n",
              "      <td>2016-06-08 16:29:12</td>\n",
              "      <td>2016-06-09 16:11:03</td>\n",
              "      <td>1</td>\n",
              "      <td>-73.958061</td>\n",
              "      <td>40.800869</td>\n",
              "      <td>-73.964119</td>\n",
              "      <td>40.805515</td>\n",
              "      <td>N</td>\n",
              "      <td>85311</td>\n",
              "      <td>Wednesday</td>\n",
              "      <td>6</td>\n",
              "      <td>16</td>\n",
              "      <td>Thursday</td>\n",
              "      <td>6</td>\n",
              "      <td>16</td>\n",
              "      <td>0.725879</td>\n",
              "      <td>[40.80086898803711, -73.95806121826173]</td>\n",
              "      <td>[40.80551528930664, -73.96411895751955]</td>\n",
              "      <td>23.697500</td>\n",
              "    </tr>\n",
              "    <tr>\n",
              "      <th>1457752</th>\n",
              "      <td>id1215198</td>\n",
              "      <td>2</td>\n",
              "      <td>2016-02-02 11:31:10</td>\n",
              "      <td>2016-02-03 11:29:44</td>\n",
              "      <td>6</td>\n",
              "      <td>-73.972069</td>\n",
              "      <td>40.794220</td>\n",
              "      <td>-73.961014</td>\n",
              "      <td>40.806728</td>\n",
              "      <td>N</td>\n",
              "      <td>86314</td>\n",
              "      <td>Tuesday</td>\n",
              "      <td>2</td>\n",
              "      <td>11</td>\n",
              "      <td>Wednesday</td>\n",
              "      <td>2</td>\n",
              "      <td>11</td>\n",
              "      <td>1.673447</td>\n",
              "      <td>[40.79421997070313, -73.9720687866211]</td>\n",
              "      <td>[40.80672836303711, -73.96101379394531]</td>\n",
              "      <td>23.976111</td>\n",
              "    </tr>\n",
              "    <tr>\n",
              "      <th>1458076</th>\n",
              "      <td>id2332290</td>\n",
              "      <td>2</td>\n",
              "      <td>2016-04-24 00:58:34</td>\n",
              "      <td>2016-04-25 00:56:16</td>\n",
              "      <td>1</td>\n",
              "      <td>-73.990479</td>\n",
              "      <td>40.760876</td>\n",
              "      <td>-73.983025</td>\n",
              "      <td>40.764557</td>\n",
              "      <td>N</td>\n",
              "      <td>86262</td>\n",
              "      <td>Sunday</td>\n",
              "      <td>4</td>\n",
              "      <td>0</td>\n",
              "      <td>Monday</td>\n",
              "      <td>4</td>\n",
              "      <td>0</td>\n",
              "      <td>0.749438</td>\n",
              "      <td>[40.7608757019043, -73.990478515625]</td>\n",
              "      <td>[40.764556884765625, -73.98302459716798]</td>\n",
              "      <td>23.961667</td>\n",
              "    </tr>\n",
              "  </tbody>\n",
              "</table>\n",
              "<p>2067 rows × 21 columns</p>\n",
              "</div>"
            ],
            "text/plain": [
              "                id  ...   duration\n",
              "531      id3307903  ...  23.498333\n",
              "1134     id1091477  ...  23.930278\n",
              "1865     id3431345  ...  23.986667\n",
              "3442     id1487069  ...  23.954444\n",
              "4172     id3674870  ...  23.665833\n",
              "...            ...  ...        ...\n",
              "1455097  id2798196  ...  20.140000\n",
              "1456458  id2055880  ...  23.953611\n",
              "1457207  id1910950  ...  23.697500\n",
              "1457752  id1215198  ...  23.976111\n",
              "1458076  id2332290  ...  23.961667\n",
              "\n",
              "[2067 rows x 21 columns]"
            ]
          },
          "metadata": {
            "tags": []
          },
          "execution_count": 26
        }
      ]
    },
    {
      "cell_type": "code",
      "metadata": {
        "colab": {
          "base_uri": "https://localhost:8080/",
          "height": 500
        },
        "id": "xnaG1iAnr8Jn",
        "outputId": "389b6fd5-788e-484f-d55f-3d872307eacd"
      },
      "source": [
        "df1 = k[['distance','duration']]\n",
        "plt.yticks(ticks = np.arange(0, 30, 2))\n",
        "plt.scatter(x = df1['distance'], y=df1['duration'])\n",
        "plt.show()"
      ],
      "execution_count": null,
      "outputs": [
        {
          "output_type": "display_data",
          "data": {
            "image/png": "[encoded data removed]",
            "text/plain": [
              "<Figure size 842.4x595.44 with 1 Axes>"
            ]
          },
          "metadata": {
            "tags": []
          }
        }
      ]
    },
    {
      "cell_type": "markdown",
      "metadata": {
        "id": "zqMwYN1JZXpP"
      },
      "source": [
        "The duration vs distance in the data shows that such data is highly implausible, and hence should be eliminated to prepare the model for training"
      ]
    },
    {
      "cell_type": "code",
      "metadata": {
        "id": "J6DdcSMPZmMa"
      },
      "source": [
        "#dropping cancelled rides which cannot determine trip duration\n",
        "index_zero_dist = data[ data['distance'] == 0 ].index\n",
        "data.drop(index_zero_dist, inplace = True)"
      ],
      "execution_count": null,
      "outputs": []
    },
    {
      "cell_type": "code",
      "metadata": {
        "colab": {
          "base_uri": "https://localhost:8080/"
        },
        "id": "HLcdoQL80Rcv",
        "outputId": "dbb51bbb-4aa3-4fa6-e639-e1f39c8cfc7b"
      },
      "source": [
        "#checking number of distance recorded over 200\n",
        "p=len(data[data.distance>=200])\n",
        "p"
      ],
      "execution_count": null,
      "outputs": [
        {
          "output_type": "execute_result",
          "data": {
            "text/plain": [
              "11"
            ]
          },
          "metadata": {
            "tags": []
          },
          "execution_count": 29
        }
      ]
    },
    {
      "cell_type": "code",
      "metadata": {
        "colab": {
          "base_uri": "https://localhost:8080/",
          "height": 597
        },
        "id": "9kcgF5xr0R2u",
        "outputId": "d513cdc6-1a74-4d86-e400-5533982183f7"
      },
      "source": [
        "#extracting their rows to check the data\n",
        "f= data.loc[data['distance']>=200]\n",
        "f"
      ],
      "execution_count": null,
      "outputs": [
        {
          "output_type": "execute_result",
          "data": {
            "text/html": [
              "<div>\n",
              "<style scoped>\n",
              "    .dataframe tbody tr th:only-of-type {\n",
              "        vertical-align: middle;\n",
              "    }\n",
              "\n",
              "    .dataframe tbody tr th {\n",
              "        vertical-align: top;\n",
              "    }\n",
              "\n",
              "    .dataframe thead th {\n",
              "        text-align: right;\n",
              "    }\n",
              "</style>\n",
              "<table border=\"1\" class=\"dataframe\">\n",
              "  <thead>\n",
              "    <tr style=\"text-align: right;\">\n",
              "      <th></th>\n",
              "      <th>id</th>\n",
              "      <th>vendor_id</th>\n",
              "      <th>pickup_datetime</th>\n",
              "      <th>dropoff_datetime</th>\n",
              "      <th>passenger_count</th>\n",
              "      <th>pickup_longitude</th>\n",
              "      <th>pickup_latitude</th>\n",
              "      <th>dropoff_longitude</th>\n",
              "      <th>dropoff_latitude</th>\n",
              "      <th>store_and_fwd_flag</th>\n",
              "      <th>trip_duration</th>\n",
              "      <th>up_weekday</th>\n",
              "      <th>up_month</th>\n",
              "      <th>pickup_hour</th>\n",
              "      <th>off_weekday</th>\n",
              "      <th>off_month</th>\n",
              "      <th>dropoff_hour</th>\n",
              "      <th>distance</th>\n",
              "      <th>pickup</th>\n",
              "      <th>dropoff</th>\n",
              "      <th>duration</th>\n",
              "    </tr>\n",
              "  </thead>\n",
              "  <tbody>\n",
              "    <tr>\n",
              "      <th>184925</th>\n",
              "      <td>id2306955</td>\n",
              "      <td>1</td>\n",
              "      <td>2016-05-07 18:58:53</td>\n",
              "      <td>2016-05-07 19:12:05</td>\n",
              "      <td>1</td>\n",
              "      <td>-72.809669</td>\n",
              "      <td>51.881084</td>\n",
              "      <td>-73.987228</td>\n",
              "      <td>40.750599</td>\n",
              "      <td>N</td>\n",
              "      <td>792</td>\n",
              "      <td>Saturday</td>\n",
              "      <td>5</td>\n",
              "      <td>18</td>\n",
              "      <td>Saturday</td>\n",
              "      <td>5</td>\n",
              "      <td>19</td>\n",
              "      <td>1240.910430</td>\n",
              "      <td>[51.88108444213867, -72.8096694946289]</td>\n",
              "      <td>[40.7505989074707, -73.98722839355469]</td>\n",
              "      <td>0.220000</td>\n",
              "    </tr>\n",
              "    <tr>\n",
              "      <th>275644</th>\n",
              "      <td>id0978162</td>\n",
              "      <td>1</td>\n",
              "      <td>2016-02-24 16:20:59</td>\n",
              "      <td>2016-02-24 16:35:34</td>\n",
              "      <td>4</td>\n",
              "      <td>-75.354332</td>\n",
              "      <td>34.712234</td>\n",
              "      <td>-73.834923</td>\n",
              "      <td>32.181141</td>\n",
              "      <td>N</td>\n",
              "      <td>875</td>\n",
              "      <td>Wednesday</td>\n",
              "      <td>2</td>\n",
              "      <td>16</td>\n",
              "      <td>Wednesday</td>\n",
              "      <td>2</td>\n",
              "      <td>16</td>\n",
              "      <td>314.764648</td>\n",
              "      <td>[34.71223449707032, -75.35433197021484]</td>\n",
              "      <td>[32.1811408996582, -73.83492279052734]</td>\n",
              "      <td>0.243056</td>\n",
              "    </tr>\n",
              "    <tr>\n",
              "      <th>377068</th>\n",
              "      <td>id0116374</td>\n",
              "      <td>1</td>\n",
              "      <td>2016-04-02 20:33:19</td>\n",
              "      <td>2016-04-02 20:38:01</td>\n",
              "      <td>1</td>\n",
              "      <td>-74.007095</td>\n",
              "      <td>40.717113</td>\n",
              "      <td>-76.963242</td>\n",
              "      <td>38.946033</td>\n",
              "      <td>N</td>\n",
              "      <td>282</td>\n",
              "      <td>Saturday</td>\n",
              "      <td>4</td>\n",
              "      <td>20</td>\n",
              "      <td>Saturday</td>\n",
              "      <td>4</td>\n",
              "      <td>20</td>\n",
              "      <td>320.126227</td>\n",
              "      <td>[40.71711349487305, -74.00709533691406]</td>\n",
              "      <td>[38.9460334777832, -76.96324157714844]</td>\n",
              "      <td>0.078333</td>\n",
              "    </tr>\n",
              "    <tr>\n",
              "      <th>397526</th>\n",
              "      <td>id0982904</td>\n",
              "      <td>1</td>\n",
              "      <td>2016-04-28 13:32:14</td>\n",
              "      <td>2016-04-28 14:14:09</td>\n",
              "      <td>2</td>\n",
              "      <td>-73.870682</td>\n",
              "      <td>40.773598</td>\n",
              "      <td>-79.817978</td>\n",
              "      <td>38.963852</td>\n",
              "      <td>N</td>\n",
              "      <td>2515</td>\n",
              "      <td>Thursday</td>\n",
              "      <td>4</td>\n",
              "      <td>13</td>\n",
              "      <td>Thursday</td>\n",
              "      <td>4</td>\n",
              "      <td>14</td>\n",
              "      <td>545.854270</td>\n",
              "      <td>[40.773597717285156, -73.87068176269531]</td>\n",
              "      <td>[38.96385192871094, -79.81797790527342]</td>\n",
              "      <td>0.698611</td>\n",
              "    </tr>\n",
              "    <tr>\n",
              "      <th>644165</th>\n",
              "      <td>id0401529</td>\n",
              "      <td>2</td>\n",
              "      <td>2016-06-02 15:19:35</td>\n",
              "      <td>2016-06-02 15:32:59</td>\n",
              "      <td>1</td>\n",
              "      <td>-73.980751</td>\n",
              "      <td>40.757111</td>\n",
              "      <td>-74.240051</td>\n",
              "      <td>38.478298</td>\n",
              "      <td>N</td>\n",
              "      <td>804</td>\n",
              "      <td>Thursday</td>\n",
              "      <td>6</td>\n",
              "      <td>15</td>\n",
              "      <td>Thursday</td>\n",
              "      <td>6</td>\n",
              "      <td>15</td>\n",
              "      <td>254.363882</td>\n",
              "      <td>[40.75711059570313, -73.98075103759766]</td>\n",
              "      <td>[38.47829818725585, -74.24005126953125]</td>\n",
              "      <td>0.223333</td>\n",
              "    </tr>\n",
              "    <tr>\n",
              "      <th>910072</th>\n",
              "      <td>id1146400</td>\n",
              "      <td>1</td>\n",
              "      <td>2016-02-15 18:57:32</td>\n",
              "      <td>2016-02-15 19:02:35</td>\n",
              "      <td>2</td>\n",
              "      <td>-73.989914</td>\n",
              "      <td>40.756634</td>\n",
              "      <td>-70.346077</td>\n",
              "      <td>36.398121</td>\n",
              "      <td>N</td>\n",
              "      <td>303</td>\n",
              "      <td>Monday</td>\n",
              "      <td>2</td>\n",
              "      <td>18</td>\n",
              "      <td>Monday</td>\n",
              "      <td>2</td>\n",
              "      <td>19</td>\n",
              "      <td>578.843635</td>\n",
              "      <td>[40.75663375854492, -73.98991394042969]</td>\n",
              "      <td>[36.39812088012695, -70.34607696533203]</td>\n",
              "      <td>0.084167</td>\n",
              "    </tr>\n",
              "    <tr>\n",
              "      <th>923793</th>\n",
              "      <td>id1001696</td>\n",
              "      <td>1</td>\n",
              "      <td>2016-02-24 21:02:32</td>\n",
              "      <td>2016-02-24 21:25:57</td>\n",
              "      <td>1</td>\n",
              "      <td>-73.972366</td>\n",
              "      <td>40.758633</td>\n",
              "      <td>-79.553535</td>\n",
              "      <td>43.674000</td>\n",
              "      <td>N</td>\n",
              "      <td>1405</td>\n",
              "      <td>Wednesday</td>\n",
              "      <td>2</td>\n",
              "      <td>21</td>\n",
              "      <td>Wednesday</td>\n",
              "      <td>2</td>\n",
              "      <td>21</td>\n",
              "      <td>562.235982</td>\n",
              "      <td>[40.7586326599121, -73.97236633300781]</td>\n",
              "      <td>[43.67399978637695, -79.55353546142578]</td>\n",
              "      <td>0.390278</td>\n",
              "    </tr>\n",
              "    <tr>\n",
              "      <th>974378</th>\n",
              "      <td>id1510552</td>\n",
              "      <td>2</td>\n",
              "      <td>2016-01-06 20:40:52</td>\n",
              "      <td>2016-01-06 20:51:03</td>\n",
              "      <td>5</td>\n",
              "      <td>-71.799896</td>\n",
              "      <td>35.081532</td>\n",
              "      <td>-79.352837</td>\n",
              "      <td>40.436329</td>\n",
              "      <td>N</td>\n",
              "      <td>611</td>\n",
              "      <td>Wednesday</td>\n",
              "      <td>1</td>\n",
              "      <td>20</td>\n",
              "      <td>Wednesday</td>\n",
              "      <td>1</td>\n",
              "      <td>20</td>\n",
              "      <td>891.215362</td>\n",
              "      <td>[35.0815315246582, -71.79989624023438]</td>\n",
              "      <td>[40.43632888793945, -79.35283660888672]</td>\n",
              "      <td>0.169722</td>\n",
              "    </tr>\n",
              "    <tr>\n",
              "      <th>1013474</th>\n",
              "      <td>id3626673</td>\n",
              "      <td>1</td>\n",
              "      <td>2016-05-05 18:02:50</td>\n",
              "      <td>2016-05-05 18:18:23</td>\n",
              "      <td>1</td>\n",
              "      <td>-73.978912</td>\n",
              "      <td>40.756763</td>\n",
              "      <td>-79.338699</td>\n",
              "      <td>41.427902</td>\n",
              "      <td>N</td>\n",
              "      <td>933</td>\n",
              "      <td>Thursday</td>\n",
              "      <td>5</td>\n",
              "      <td>18</td>\n",
              "      <td>Thursday</td>\n",
              "      <td>5</td>\n",
              "      <td>18</td>\n",
              "      <td>455.241847</td>\n",
              "      <td>[40.75676345825195, -73.97891235351562]</td>\n",
              "      <td>[41.42790222167969, -79.3386993408203]</td>\n",
              "      <td>0.259167</td>\n",
              "    </tr>\n",
              "    <tr>\n",
              "      <th>1060807</th>\n",
              "      <td>id0838705</td>\n",
              "      <td>1</td>\n",
              "      <td>2016-02-26 19:50:03</td>\n",
              "      <td>2016-02-26 20:08:54</td>\n",
              "      <td>1</td>\n",
              "      <td>-66.972160</td>\n",
              "      <td>44.371944</td>\n",
              "      <td>-69.048019</td>\n",
              "      <td>43.147583</td>\n",
              "      <td>N</td>\n",
              "      <td>1131</td>\n",
              "      <td>Friday</td>\n",
              "      <td>2</td>\n",
              "      <td>19</td>\n",
              "      <td>Friday</td>\n",
              "      <td>2</td>\n",
              "      <td>20</td>\n",
              "      <td>215.226877</td>\n",
              "      <td>[44.37194442749024, -66.97216033935545]</td>\n",
              "      <td>[43.1475830078125, -69.04801940917969]</td>\n",
              "      <td>0.314167</td>\n",
              "    </tr>\n",
              "    <tr>\n",
              "      <th>1100676</th>\n",
              "      <td>id2644780</td>\n",
              "      <td>1</td>\n",
              "      <td>2016-05-03 16:24:07</td>\n",
              "      <td>2016-05-03 17:18:34</td>\n",
              "      <td>2</td>\n",
              "      <td>-73.991325</td>\n",
              "      <td>40.750023</td>\n",
              "      <td>-79.518616</td>\n",
              "      <td>43.921028</td>\n",
              "      <td>N</td>\n",
              "      <td>3267</td>\n",
              "      <td>Tuesday</td>\n",
              "      <td>5</td>\n",
              "      <td>16</td>\n",
              "      <td>Tuesday</td>\n",
              "      <td>5</td>\n",
              "      <td>17</td>\n",
              "      <td>574.876255</td>\n",
              "      <td>[40.7500228881836, -73.99132537841797]</td>\n",
              "      <td>[43.92102813720703, -79.51861572265625]</td>\n",
              "      <td>0.907500</td>\n",
              "    </tr>\n",
              "  </tbody>\n",
              "</table>\n",
              "</div>"
            ],
            "text/plain": [
              "                id  ...  duration\n",
              "184925   id2306955  ...  0.220000\n",
              "275644   id0978162  ...  0.243056\n",
              "377068   id0116374  ...  0.078333\n",
              "397526   id0982904  ...  0.698611\n",
              "644165   id0401529  ...  0.223333\n",
              "910072   id1146400  ...  0.084167\n",
              "923793   id1001696  ...  0.390278\n",
              "974378   id1510552  ...  0.169722\n",
              "1013474  id3626673  ...  0.259167\n",
              "1060807  id0838705  ...  0.314167\n",
              "1100676  id2644780  ...  0.907500\n",
              "\n",
              "[11 rows x 21 columns]"
            ]
          },
          "metadata": {
            "tags": []
          },
          "execution_count": 30
        }
      ]
    },
    {
      "cell_type": "code",
      "metadata": {
        "id": "_jZzbCI_0Scy"
      },
      "source": [
        "#dropping impossible rides which cannot determine trip duration\n",
        "index_imp_dist = data[ data['distance'] >= 200 ].index\n",
        "data.drop(index_imp_dist, inplace = True)"
      ],
      "execution_count": null,
      "outputs": []
    },
    {
      "cell_type": "code",
      "metadata": {
        "id": "theA-L67zOz0"
      },
      "source": [
        "#dropping rides which are implausible, and takes over 5 hours to complete\n",
        "index_imp_dura = data[data['duration'] >=5].index\n",
        "data.drop(index_imp_dura, inplace= True)"
      ],
      "execution_count": null,
      "outputs": []
    },
    {
      "cell_type": "markdown",
      "metadata": {
        "id": "jrQlUzba6PTi"
      },
      "source": [
        "Interestingly, the legal speed limit to drive a taxi within NYC is 25 miles per hour, which is roughly 41 km per hour. Hence, let us try to check speed of taxi trips that have covered distances above 41 km, because the fine for getting caught for overspeeding is considerably high, and is not something that taxi drivers would be risking for a marginal tip from passengers."
      ]
    },
    {
      "cell_type": "code",
      "metadata": {
        "id": "FjsfwISWEhQq"
      },
      "source": [
        "def speednyc(x,y):\n",
        "  return x/y"
      ],
      "execution_count": null,
      "outputs": []
    },
    {
      "cell_type": "code",
      "metadata": {
        "id": "wvkAtYsBD726"
      },
      "source": [
        "data['speed']= data.apply(lambda x:speednyc(x['distance'],x['duration']),axis=1)"
      ],
      "execution_count": null,
      "outputs": []
    },
    {
      "cell_type": "code",
      "metadata": {
        "colab": {
          "base_uri": "https://localhost:8080/"
        },
        "id": "9nCOI7j7F52a",
        "outputId": "c8e94f75-6bbe-4228-9904-c4872c05db26"
      },
      "source": [
        "#checking number of speed recorded over 40\n",
        "num=len(data[data.speed>=40])\n",
        "num"
      ],
      "execution_count": null,
      "outputs": [
        {
          "output_type": "execute_result",
          "data": {
            "text/plain": [
              "16357"
            ]
          },
          "metadata": {
            "tags": []
          },
          "execution_count": 35
        }
      ]
    },
    {
      "cell_type": "markdown",
      "metadata": {
        "id": "ox4pfk-fG-Qd"
      },
      "source": [
        "we need to eliminate this kind of data because this is kind of inconsitent, illegal and should not be a primary part of observing how overspeeding might have affected trip time."
      ]
    },
    {
      "cell_type": "code",
      "metadata": {
        "id": "p5d8NqZ1G9ST"
      },
      "source": [
        "#throwing away rides with overspeeding as it isnt a regular or economical or legal way to account for rides\n",
        "index_imp_speed = data[ data['speed'] >= 40 ].index\n",
        "data.drop(index_imp_speed, inplace = True)"
      ],
      "execution_count": null,
      "outputs": []
    },
    {
      "cell_type": "code",
      "metadata": {
        "colab": {
          "base_uri": "https://localhost:8080/",
          "height": 609
        },
        "id": "y95tP-TyIqGI",
        "outputId": "332f4f9e-3c81-4dfb-910c-bd9c69fb5218"
      },
      "source": [
        "#throwing away the column speed as it will cause irregularity in modelling, because its a function of duration itself; and trip duration as duration points out time in hours, also dropping out pickup and dropoff latitude, longitudes, pickup and dropoff date times, and the id of each taxi driver\n",
        "data.drop(['speed','id','trip_duration','pickup_datetime','dropoff_datetime'],axis=1)"
      ],
      "execution_count": null,
      "outputs": [
        {
          "output_type": "execute_result",
          "data": {
            "text/html": [
              "<div>\n",
              "<style scoped>\n",
              "    .dataframe tbody tr th:only-of-type {\n",
              "        vertical-align: middle;\n",
              "    }\n",
              "\n",
              "    .dataframe tbody tr th {\n",
              "        vertical-align: top;\n",
              "    }\n",
              "\n",
              "    .dataframe thead th {\n",
              "        text-align: right;\n",
              "    }\n",
              "</style>\n",
              "<table border=\"1\" class=\"dataframe\">\n",
              "  <thead>\n",
              "    <tr style=\"text-align: right;\">\n",
              "      <th></th>\n",
              "      <th>vendor_id</th>\n",
              "      <th>passenger_count</th>\n",
              "      <th>pickup_longitude</th>\n",
              "      <th>pickup_latitude</th>\n",
              "      <th>dropoff_longitude</th>\n",
              "      <th>dropoff_latitude</th>\n",
              "      <th>store_and_fwd_flag</th>\n",
              "      <th>up_weekday</th>\n",
              "      <th>up_month</th>\n",
              "      <th>pickup_hour</th>\n",
              "      <th>off_weekday</th>\n",
              "      <th>off_month</th>\n",
              "      <th>dropoff_hour</th>\n",
              "      <th>distance</th>\n",
              "      <th>pickup</th>\n",
              "      <th>dropoff</th>\n",
              "      <th>duration</th>\n",
              "    </tr>\n",
              "  </thead>\n",
              "  <tbody>\n",
              "    <tr>\n",
              "      <th>0</th>\n",
              "      <td>2</td>\n",
              "      <td>1</td>\n",
              "      <td>-73.982155</td>\n",
              "      <td>40.767937</td>\n",
              "      <td>-73.964630</td>\n",
              "      <td>40.765602</td>\n",
              "      <td>N</td>\n",
              "      <td>Monday</td>\n",
              "      <td>3</td>\n",
              "      <td>17</td>\n",
              "      <td>Monday</td>\n",
              "      <td>3</td>\n",
              "      <td>17</td>\n",
              "      <td>1.498523</td>\n",
              "      <td>[40.76793670654297, -73.98215484619139]</td>\n",
              "      <td>[40.765602111816406, -73.96463012695312]</td>\n",
              "      <td>0.126389</td>\n",
              "    </tr>\n",
              "    <tr>\n",
              "      <th>1</th>\n",
              "      <td>1</td>\n",
              "      <td>1</td>\n",
              "      <td>-73.980415</td>\n",
              "      <td>40.738564</td>\n",
              "      <td>-73.999481</td>\n",
              "      <td>40.731152</td>\n",
              "      <td>N</td>\n",
              "      <td>Sunday</td>\n",
              "      <td>6</td>\n",
              "      <td>0</td>\n",
              "      <td>Sunday</td>\n",
              "      <td>6</td>\n",
              "      <td>0</td>\n",
              "      <td>1.805510</td>\n",
              "      <td>[40.738563537597656, -73.98041534423827]</td>\n",
              "      <td>[40.73115158081055, -73.99948120117188]</td>\n",
              "      <td>0.184167</td>\n",
              "    </tr>\n",
              "    <tr>\n",
              "      <th>2</th>\n",
              "      <td>2</td>\n",
              "      <td>1</td>\n",
              "      <td>-73.979027</td>\n",
              "      <td>40.763939</td>\n",
              "      <td>-74.005333</td>\n",
              "      <td>40.710087</td>\n",
              "      <td>N</td>\n",
              "      <td>Tuesday</td>\n",
              "      <td>1</td>\n",
              "      <td>11</td>\n",
              "      <td>Tuesday</td>\n",
              "      <td>1</td>\n",
              "      <td>12</td>\n",
              "      <td>6.385108</td>\n",
              "      <td>[40.763938903808594, -73.97902679443358]</td>\n",
              "      <td>[40.71008682250977, -74.00533294677734]</td>\n",
              "      <td>0.590000</td>\n",
              "    </tr>\n",
              "    <tr>\n",
              "      <th>3</th>\n",
              "      <td>2</td>\n",
              "      <td>1</td>\n",
              "      <td>-74.010040</td>\n",
              "      <td>40.719971</td>\n",
              "      <td>-74.012268</td>\n",
              "      <td>40.706718</td>\n",
              "      <td>N</td>\n",
              "      <td>Wednesday</td>\n",
              "      <td>4</td>\n",
              "      <td>19</td>\n",
              "      <td>Wednesday</td>\n",
              "      <td>4</td>\n",
              "      <td>19</td>\n",
              "      <td>1.485501</td>\n",
              "      <td>[40.719970703125, -74.01004028320312]</td>\n",
              "      <td>[40.70671844482422, -74.01226806640625]</td>\n",
              "      <td>0.119167</td>\n",
              "    </tr>\n",
              "    <tr>\n",
              "      <th>4</th>\n",
              "      <td>2</td>\n",
              "      <td>1</td>\n",
              "      <td>-73.973053</td>\n",
              "      <td>40.793209</td>\n",
              "      <td>-73.972923</td>\n",
              "      <td>40.782520</td>\n",
              "      <td>N</td>\n",
              "      <td>Saturday</td>\n",
              "      <td>3</td>\n",
              "      <td>13</td>\n",
              "      <td>Saturday</td>\n",
              "      <td>3</td>\n",
              "      <td>13</td>\n",
              "      <td>1.188590</td>\n",
              "      <td>[40.79320907592773, -73.97305297851562]</td>\n",
              "      <td>[40.78252029418945, -73.9729232788086]</td>\n",
              "      <td>0.120833</td>\n",
              "    </tr>\n",
              "    <tr>\n",
              "      <th>...</th>\n",
              "      <td>...</td>\n",
              "      <td>...</td>\n",
              "      <td>...</td>\n",
              "      <td>...</td>\n",
              "      <td>...</td>\n",
              "      <td>...</td>\n",
              "      <td>...</td>\n",
              "      <td>...</td>\n",
              "      <td>...</td>\n",
              "      <td>...</td>\n",
              "      <td>...</td>\n",
              "      <td>...</td>\n",
              "      <td>...</td>\n",
              "      <td>...</td>\n",
              "      <td>...</td>\n",
              "      <td>...</td>\n",
              "      <td>...</td>\n",
              "    </tr>\n",
              "    <tr>\n",
              "      <th>1458639</th>\n",
              "      <td>2</td>\n",
              "      <td>4</td>\n",
              "      <td>-73.982201</td>\n",
              "      <td>40.745522</td>\n",
              "      <td>-73.994911</td>\n",
              "      <td>40.740170</td>\n",
              "      <td>N</td>\n",
              "      <td>Friday</td>\n",
              "      <td>4</td>\n",
              "      <td>13</td>\n",
              "      <td>Friday</td>\n",
              "      <td>4</td>\n",
              "      <td>13</td>\n",
              "      <td>1.225082</td>\n",
              "      <td>[40.745521545410156, -73.9822006225586]</td>\n",
              "      <td>[40.74016952514648, -73.99491119384766]</td>\n",
              "      <td>0.216111</td>\n",
              "    </tr>\n",
              "    <tr>\n",
              "      <th>1458640</th>\n",
              "      <td>1</td>\n",
              "      <td>1</td>\n",
              "      <td>-74.000946</td>\n",
              "      <td>40.747379</td>\n",
              "      <td>-73.970184</td>\n",
              "      <td>40.796547</td>\n",
              "      <td>N</td>\n",
              "      <td>Sunday</td>\n",
              "      <td>1</td>\n",
              "      <td>7</td>\n",
              "      <td>Sunday</td>\n",
              "      <td>1</td>\n",
              "      <td>7</td>\n",
              "      <td>6.049844</td>\n",
              "      <td>[40.74737930297852, -74.00094604492188]</td>\n",
              "      <td>[40.796546936035156, -73.97018432617188]</td>\n",
              "      <td>0.181944</td>\n",
              "    </tr>\n",
              "    <tr>\n",
              "      <th>1458641</th>\n",
              "      <td>2</td>\n",
              "      <td>1</td>\n",
              "      <td>-73.959129</td>\n",
              "      <td>40.768799</td>\n",
              "      <td>-74.004433</td>\n",
              "      <td>40.707371</td>\n",
              "      <td>N</td>\n",
              "      <td>Friday</td>\n",
              "      <td>4</td>\n",
              "      <td>6</td>\n",
              "      <td>Friday</td>\n",
              "      <td>4</td>\n",
              "      <td>7</td>\n",
              "      <td>7.824617</td>\n",
              "      <td>[40.768798828125, -73.9591293334961]</td>\n",
              "      <td>[40.70737075805664, -74.00443267822266]</td>\n",
              "      <td>0.212222</td>\n",
              "    </tr>\n",
              "    <tr>\n",
              "      <th>1458642</th>\n",
              "      <td>1</td>\n",
              "      <td>1</td>\n",
              "      <td>-73.982079</td>\n",
              "      <td>40.749062</td>\n",
              "      <td>-73.974632</td>\n",
              "      <td>40.757107</td>\n",
              "      <td>N</td>\n",
              "      <td>Tuesday</td>\n",
              "      <td>1</td>\n",
              "      <td>15</td>\n",
              "      <td>Tuesday</td>\n",
              "      <td>1</td>\n",
              "      <td>16</td>\n",
              "      <td>1.092565</td>\n",
              "      <td>[40.749061584472656, -73.9820785522461]</td>\n",
              "      <td>[40.75710678100585, -73.97463226318358]</td>\n",
              "      <td>0.103611</td>\n",
              "    </tr>\n",
              "    <tr>\n",
              "      <th>1458643</th>\n",
              "      <td>1</td>\n",
              "      <td>1</td>\n",
              "      <td>-73.979538</td>\n",
              "      <td>40.781750</td>\n",
              "      <td>-73.972809</td>\n",
              "      <td>40.790585</td>\n",
              "      <td>N</td>\n",
              "      <td>Tuesday</td>\n",
              "      <td>4</td>\n",
              "      <td>14</td>\n",
              "      <td>Tuesday</td>\n",
              "      <td>4</td>\n",
              "      <td>14</td>\n",
              "      <td>1.134044</td>\n",
              "      <td>[40.7817497253418, -73.9795379638672]</td>\n",
              "      <td>[40.79058456420898, -73.97280883789062]</td>\n",
              "      <td>0.055000</td>\n",
              "    </tr>\n",
              "  </tbody>\n",
              "</table>\n",
              "<p>1434256 rows × 17 columns</p>\n",
              "</div>"
            ],
            "text/plain": [
              "         vendor_id  ...  duration\n",
              "0                2  ...  0.126389\n",
              "1                1  ...  0.184167\n",
              "2                2  ...  0.590000\n",
              "3                2  ...  0.119167\n",
              "4                2  ...  0.120833\n",
              "...            ...  ...       ...\n",
              "1458639          2  ...  0.216111\n",
              "1458640          1  ...  0.181944\n",
              "1458641          2  ...  0.212222\n",
              "1458642          1  ...  0.103611\n",
              "1458643          1  ...  0.055000\n",
              "\n",
              "[1434256 rows x 17 columns]"
            ]
          },
          "metadata": {
            "tags": []
          },
          "execution_count": 37
        }
      ]
    },
    {
      "cell_type": "code",
      "metadata": {
        "colab": {
          "base_uri": "https://localhost:8080/",
          "height": 534
        },
        "id": "jEkGGiNhBwx_",
        "outputId": "95e92068-192a-4e3f-ae7a-9270cf00b6bf"
      },
      "source": [
        "sns.scatterplot(x='duration',y='distance',data=data)"
      ],
      "execution_count": null,
      "outputs": [
        {
          "output_type": "execute_result",
          "data": {
            "text/plain": [
              "<matplotlib.axes._subplots.AxesSubplot at 0x7f8c5285b190>"
            ]
          },
          "metadata": {
            "tags": []
          },
          "execution_count": 38
        },
        {
          "output_type": "display_data",
          "data": {
            "image/png": "[encoded data removed]",
            "text/plain": [
              "<Figure size 842.4x595.44 with 1 Axes>"
            ]
          },
          "metadata": {
            "tags": []
          }
        }
      ]
    },
    {
      "cell_type": "markdown",
      "metadata": {
        "id": "7CpyGL99wMd0"
      },
      "source": [
        "Lets divide the pickup and dropoff locations into boroughs, so that we can understand if there's any relation between the pickup and drop off locations. We could have used Reverse Geocoding for this step, but the problem is such that we have a few million pair of coordinates to Reverse Geocode, so this might not be an optimal solution. Instead, we go ahead by using a shape file, which contains boundaries of the boroughs, in which the pickup and dropoff locations"
      ]
    },
    {
      "cell_type": "markdown",
      "metadata": {
        "id": "RZVoyv1JRBJy"
      },
      "source": [
        "**YEAH, FOR FUCK'S SAKE I CAN'T MAKE IT HAPPEN FOR A 1000 REASONS, SO I'LL INSTEAD BIN THE FUCKERS**"
      ]
    },
    {
      "cell_type": "code",
      "metadata": {
        "colab": {
          "base_uri": "https://localhost:8080/",
          "height": 204
        },
        "id": "fxjIDSCOoGEQ",
        "outputId": "01f43a7f-91bb-4d96-98e0-4d3abc952ded"
      },
      "source": [
        "boundary"
      ],
      "execution_count": null,
      "outputs": [
        {
          "output_type": "execute_result",
          "data": {
            "text/html": [
              "<div>\n",
              "<style scoped>\n",
              "    .dataframe tbody tr th:only-of-type {\n",
              "        vertical-align: middle;\n",
              "    }\n",
              "\n",
              "    .dataframe tbody tr th {\n",
              "        vertical-align: top;\n",
              "    }\n",
              "\n",
              "    .dataframe thead th {\n",
              "        text-align: right;\n",
              "    }\n",
              "</style>\n",
              "<table border=\"1\" class=\"dataframe\">\n",
              "  <thead>\n",
              "    <tr style=\"text-align: right;\">\n",
              "      <th></th>\n",
              "      <th>BoroName</th>\n",
              "      <th>BoroCode</th>\n",
              "      <th>Shape_Leng</th>\n",
              "      <th>the_geom</th>\n",
              "      <th>Shape_Area</th>\n",
              "    </tr>\n",
              "  </thead>\n",
              "  <tbody>\n",
              "    <tr>\n",
              "      <th>0</th>\n",
              "      <td>Manhattan</td>\n",
              "      <td>1</td>\n",
              "      <td>361611.823950</td>\n",
              "      <td>MULTIPOLYGON (((-74.01092841268026 40.68449147...</td>\n",
              "      <td>6.366038e+08</td>\n",
              "    </tr>\n",
              "    <tr>\n",
              "      <th>1</th>\n",
              "      <td>Bronx</td>\n",
              "      <td>2</td>\n",
              "      <td>464650.051807</td>\n",
              "      <td>MULTIPOLYGON (((-73.89680883223774 40.79580844...</td>\n",
              "      <td>1.187245e+09</td>\n",
              "    </tr>\n",
              "    <tr>\n",
              "      <th>2</th>\n",
              "      <td>Brooklyn</td>\n",
              "      <td>3</td>\n",
              "      <td>729592.941749</td>\n",
              "      <td>MULTIPOLYGON (((-73.86706149472118 40.58208797...</td>\n",
              "      <td>1.934091e+09</td>\n",
              "    </tr>\n",
              "    <tr>\n",
              "      <th>3</th>\n",
              "      <td>Queens</td>\n",
              "      <td>4</td>\n",
              "      <td>900087.667191</td>\n",
              "      <td>MULTIPOLYGON (((-73.8264466151686 40.590527442...</td>\n",
              "      <td>3.044042e+09</td>\n",
              "    </tr>\n",
              "    <tr>\n",
              "      <th>4</th>\n",
              "      <td>Staten Island</td>\n",
              "      <td>5</td>\n",
              "      <td>325956.009000</td>\n",
              "      <td>MULTIPOLYGON (((-74.05050806403247 40.56642203...</td>\n",
              "      <td>1.623757e+09</td>\n",
              "    </tr>\n",
              "  </tbody>\n",
              "</table>\n",
              "</div>"
            ],
            "text/plain": [
              "        BoroName  ...    Shape_Area\n",
              "0      Manhattan  ...  6.366038e+08\n",
              "1          Bronx  ...  1.187245e+09\n",
              "2       Brooklyn  ...  1.934091e+09\n",
              "3         Queens  ...  3.044042e+09\n",
              "4  Staten Island  ...  1.623757e+09\n",
              "\n",
              "[5 rows x 5 columns]"
            ]
          },
          "metadata": {
            "tags": []
          },
          "execution_count": 39
        }
      ]
    },
    {
      "cell_type": "code",
      "metadata": {
        "id": "DjdpIm0WRTE-",
        "colab": {
          "base_uri": "https://localhost:8080/",
          "height": 505
        },
        "outputId": "1353e1e0-7b0f-471d-df7b-34d797110fd5"
      },
      "source": [
        "f,ax = plt.subplots(1, 2, figsize = (15, 8))\n",
        "sns.scatterplot(data[\"pickup_longitude\"], data[\"pickup_latitude\"], ax=ax[0])\n",
        "ax[0].set_xlabel(\"pickup_longitude\", fontsize = 15)\n",
        "ax[0].set_ylabel(\"pickup_latitude\", fontsize = 15)\n",
        "sns.scatterplot(data[\"dropoff_longitude\"], data[\"dropoff_latitude\"], ax=ax[1])\n",
        "ax[1].set_xlabel(\"dropoff_longitude\", fontsize = 15)\n",
        "ax[1].set_ylabel(\"dropoff_latitude\", fontsize = 15)\n",
        "\n",
        "plt.show()"
      ],
      "execution_count": null,
      "outputs": [
        {
          "output_type": "display_data",
          "data": {
            "image/png": "[encoded data removed]",
            "text/plain": [
              "<Figure size 1080x576 with 2 Axes>"
            ]
          },
          "metadata": {
            "tags": []
          }
        }
      ]
    },
    {
      "cell_type": "markdown",
      "metadata": {
        "id": "W4KvPOBtPBKM"
      },
      "source": [
        "# **IMPORTANT OBSERVATIONS:**\n",
        "1. Now we have a slightly smaller dataset, to deal with; and the strongest outliers and incredible/useless rows of data are eliminated\n",
        "2. There are still figures that seem to far fetched as numbers when taken into consideration that its a city ride, but we try to build our model taking into account these points too, but this could be a valid checkpoint if our model dont perform well. They might need special treatment, but they stay as of now.\n"
      ]
    },
    {
      "cell_type": "code",
      "metadata": {
        "id": "PrU_Mczle61Y",
        "colab": {
          "base_uri": "https://localhost:8080/",
          "height": 309
        },
        "outputId": "c35bc2a2-1043-493d-c9b2-102b9e54696f"
      },
      "source": [
        "data.head()"
      ],
      "execution_count": null,
      "outputs": [
        {
          "output_type": "execute_result",
          "data": {
            "text/html": [
              "<div>\n",
              "<style scoped>\n",
              "    .dataframe tbody tr th:only-of-type {\n",
              "        vertical-align: middle;\n",
              "    }\n",
              "\n",
              "    .dataframe tbody tr th {\n",
              "        vertical-align: top;\n",
              "    }\n",
              "\n",
              "    .dataframe thead th {\n",
              "        text-align: right;\n",
              "    }\n",
              "</style>\n",
              "<table border=\"1\" class=\"dataframe\">\n",
              "  <thead>\n",
              "    <tr style=\"text-align: right;\">\n",
              "      <th></th>\n",
              "      <th>id</th>\n",
              "      <th>vendor_id</th>\n",
              "      <th>pickup_datetime</th>\n",
              "      <th>dropoff_datetime</th>\n",
              "      <th>passenger_count</th>\n",
              "      <th>pickup_longitude</th>\n",
              "      <th>pickup_latitude</th>\n",
              "      <th>dropoff_longitude</th>\n",
              "      <th>dropoff_latitude</th>\n",
              "      <th>store_and_fwd_flag</th>\n",
              "      <th>trip_duration</th>\n",
              "      <th>up_weekday</th>\n",
              "      <th>up_month</th>\n",
              "      <th>pickup_hour</th>\n",
              "      <th>off_weekday</th>\n",
              "      <th>off_month</th>\n",
              "      <th>dropoff_hour</th>\n",
              "      <th>distance</th>\n",
              "      <th>duration</th>\n",
              "      <th>speed</th>\n",
              "    </tr>\n",
              "  </thead>\n",
              "  <tbody>\n",
              "    <tr>\n",
              "      <th>0</th>\n",
              "      <td>id2875421</td>\n",
              "      <td>2</td>\n",
              "      <td>2016-03-14 17:24:55</td>\n",
              "      <td>2016-03-14 17:32:30</td>\n",
              "      <td>1</td>\n",
              "      <td>-73.982155</td>\n",
              "      <td>40.767937</td>\n",
              "      <td>-73.964630</td>\n",
              "      <td>40.765602</td>\n",
              "      <td>N</td>\n",
              "      <td>455</td>\n",
              "      <td>Monday</td>\n",
              "      <td>3</td>\n",
              "      <td>17</td>\n",
              "      <td>Monday</td>\n",
              "      <td>3</td>\n",
              "      <td>17</td>\n",
              "      <td>1.498523</td>\n",
              "      <td>0.126389</td>\n",
              "      <td>11.856445</td>\n",
              "    </tr>\n",
              "    <tr>\n",
              "      <th>1</th>\n",
              "      <td>id2377394</td>\n",
              "      <td>1</td>\n",
              "      <td>2016-06-12 00:43:35</td>\n",
              "      <td>2016-06-12 00:54:38</td>\n",
              "      <td>1</td>\n",
              "      <td>-73.980415</td>\n",
              "      <td>40.738564</td>\n",
              "      <td>-73.999481</td>\n",
              "      <td>40.731152</td>\n",
              "      <td>N</td>\n",
              "      <td>663</td>\n",
              "      <td>Sunday</td>\n",
              "      <td>6</td>\n",
              "      <td>0</td>\n",
              "      <td>Sunday</td>\n",
              "      <td>6</td>\n",
              "      <td>0</td>\n",
              "      <td>1.805510</td>\n",
              "      <td>0.184167</td>\n",
              "      <td>9.803673</td>\n",
              "    </tr>\n",
              "    <tr>\n",
              "      <th>2</th>\n",
              "      <td>id3858529</td>\n",
              "      <td>2</td>\n",
              "      <td>2016-01-19 11:35:24</td>\n",
              "      <td>2016-01-19 12:10:48</td>\n",
              "      <td>1</td>\n",
              "      <td>-73.979027</td>\n",
              "      <td>40.763939</td>\n",
              "      <td>-74.005333</td>\n",
              "      <td>40.710087</td>\n",
              "      <td>N</td>\n",
              "      <td>2124</td>\n",
              "      <td>Tuesday</td>\n",
              "      <td>1</td>\n",
              "      <td>11</td>\n",
              "      <td>Tuesday</td>\n",
              "      <td>1</td>\n",
              "      <td>12</td>\n",
              "      <td>6.385108</td>\n",
              "      <td>0.590000</td>\n",
              "      <td>10.822216</td>\n",
              "    </tr>\n",
              "    <tr>\n",
              "      <th>3</th>\n",
              "      <td>id3504673</td>\n",
              "      <td>2</td>\n",
              "      <td>2016-04-06 19:32:31</td>\n",
              "      <td>2016-04-06 19:39:40</td>\n",
              "      <td>1</td>\n",
              "      <td>-74.010040</td>\n",
              "      <td>40.719971</td>\n",
              "      <td>-74.012268</td>\n",
              "      <td>40.706718</td>\n",
              "      <td>N</td>\n",
              "      <td>429</td>\n",
              "      <td>Wednesday</td>\n",
              "      <td>4</td>\n",
              "      <td>19</td>\n",
              "      <td>Wednesday</td>\n",
              "      <td>4</td>\n",
              "      <td>19</td>\n",
              "      <td>1.485501</td>\n",
              "      <td>0.119167</td>\n",
              "      <td>12.465739</td>\n",
              "    </tr>\n",
              "    <tr>\n",
              "      <th>4</th>\n",
              "      <td>id2181028</td>\n",
              "      <td>2</td>\n",
              "      <td>2016-03-26 13:30:55</td>\n",
              "      <td>2016-03-26 13:38:10</td>\n",
              "      <td>1</td>\n",
              "      <td>-73.973053</td>\n",
              "      <td>40.793209</td>\n",
              "      <td>-73.972923</td>\n",
              "      <td>40.782520</td>\n",
              "      <td>N</td>\n",
              "      <td>435</td>\n",
              "      <td>Saturday</td>\n",
              "      <td>3</td>\n",
              "      <td>13</td>\n",
              "      <td>Saturday</td>\n",
              "      <td>3</td>\n",
              "      <td>13</td>\n",
              "      <td>1.188590</td>\n",
              "      <td>0.120833</td>\n",
              "      <td>9.836608</td>\n",
              "    </tr>\n",
              "  </tbody>\n",
              "</table>\n",
              "</div>"
            ],
            "text/plain": [
              "          id  vendor_id     pickup_datetime  ...  distance  duration      speed\n",
              "0  id2875421          2 2016-03-14 17:24:55  ...  1.498523  0.126389  11.856445\n",
              "1  id2377394          1 2016-06-12 00:43:35  ...  1.805510  0.184167   9.803673\n",
              "2  id3858529          2 2016-01-19 11:35:24  ...  6.385108  0.590000  10.822216\n",
              "3  id3504673          2 2016-04-06 19:32:31  ...  1.485501  0.119167  12.465739\n",
              "4  id2181028          2 2016-03-26 13:30:55  ...  1.188590  0.120833   9.836608\n",
              "\n",
              "[5 rows x 20 columns]"
            ]
          },
          "metadata": {
            "tags": []
          },
          "execution_count": 82
        }
      ]
    },
    {
      "cell_type": "code",
      "metadata": {
        "id": "QadamNoQfDyb"
      },
      "source": [
        "# encoding timezones of the day into broad categories\n",
        "def timezone(x):\n",
        "    if x>= 0 and x <= 6:\n",
        "        return 1\n",
        "    elif x>= 7 and x <= 12:\n",
        "        return 2\n",
        "    elif x>= 13 and x <= 18:\n",
        "        return 3\n",
        "    elif x>= 19 and x <=24:\n",
        "        return 4"
      ],
      "execution_count": null,
      "outputs": []
    },
    {
      "cell_type": "code",
      "metadata": {
        "id": "zXJLAPuXeiDP"
      },
      "source": [
        "data['up_slot'] = data.apply(lambda y: timezone(y['pickup_hour']),axis=1)\n",
        "data['off_slot'] = data.apply(lambda y: timezone(y['dropoff_hour']),axis=1)"
      ],
      "execution_count": null,
      "outputs": []
    },
    {
      "cell_type": "code",
      "metadata": {
        "id": "YkmQyjeZAypn",
        "colab": {
          "base_uri": "https://localhost:8080/"
        },
        "outputId": "4bd60fd4-4e81-4b37-df35-fc07c4e186eb"
      },
      "source": [
        "p= data.loc[data['up_slot']!=data['off_slot']]\n",
        "p.shape"
      ],
      "execution_count": null,
      "outputs": [
        {
          "output_type": "execute_result",
          "data": {
            "text/plain": [
              "(60657, 22)"
            ]
          },
          "metadata": {
            "tags": []
          },
          "execution_count": 85
        }
      ]
    },
    {
      "cell_type": "code",
      "metadata": {
        "id": "tfITik8JHDBJ"
      },
      "source": [
        "#encoding months into 4 broad quarters\n",
        "def quarter(i):\n",
        "    if i>= 0 and i <= 3:\n",
        "        return 1\n",
        "    elif i>= 4 and i <= 6 :\n",
        "        return 2\n",
        "    elif i>= 7 and i <= 9:\n",
        "        return 3\n",
        "    elif i>= 10 and i <=12:\n",
        "        return 4"
      ],
      "execution_count": null,
      "outputs": []
    },
    {
      "cell_type": "code",
      "metadata": {
        "id": "s1tmNS8qHj93"
      },
      "source": [
        "data['up_quarter'] = data.apply(lambda y: quarter(y['up_month']),axis=1)\n",
        "data['off_quarter'] = data.apply(lambda y: quarter(y['off_month']),axis=1)"
      ],
      "execution_count": null,
      "outputs": []
    },
    {
      "cell_type": "code",
      "metadata": {
        "id": "DYcxWp0kfWA8",
        "colab": {
          "base_uri": "https://localhost:8080/",
          "height": 725
        },
        "outputId": "6ee363af-39d2-47fb-829f-0761c4daf850"
      },
      "source": [
        "#distribution of pickups and dropoffs\n",
        "figure,ax=plt.subplots(nrows=1,ncols=2,figsize=(15,10))\n",
        "sns.countplot(x='pickup_hour',data=data,ax=ax[0])\n",
        "ax[0].set_title('The distribution of number of pickups on each part of the day')\n",
        "sns.countplot(x='dropoff_hour',data=data,ax=ax[1])\n",
        "ax[1].set_title('The distribution of number of dropoffs on each part of the day')\n",
        "plt.tight_layout()"
      ],
      "execution_count": null,
      "outputs": [
        {
          "output_type": "display_data",
          "data": {
            "image/png": "[encoded data removed]",
            "text/plain": [
              "<Figure size 1080x720 with 2 Axes>"
            ]
          },
          "metadata": {
            "tags": []
          }
        }
      ]
    },
    {
      "cell_type": "code",
      "metadata": {
        "id": "neSbCx5YvsGQ",
        "colab": {
          "base_uri": "https://localhost:8080/",
          "height": 940
        },
        "outputId": "56a6479c-4c01-407b-f82d-57d3fd962ecb"
      },
      "source": [
        "#distribution of trip duration and day of the week\n",
        "sns.catplot(x=\"up_weekday\",y=\"trip_duration\",kind=\"bar\",data=data,height=6,aspect=1)\n",
        "plt.title('The Average Trip Duration per PickUp Day of the week')\n",
        "sns.catplot(x=\"off_weekday\",y=\"trip_duration\",kind=\"bar\",data=data,height=6,aspect=1)\n",
        "plt.title('The Average Trip Duration per Dropoff Day of the week')"
      ],
      "execution_count": null,
      "outputs": [
        {
          "output_type": "execute_result",
          "data": {
            "text/plain": [
              "Text(0.5, 1.0, 'The Average Trip Duration per Dropoff Day of the week')"
            ]
          },
          "metadata": {
            "tags": []
          },
          "execution_count": 89
        },
        {
          "output_type": "display_data",
          "data": {
            "image/png": "[encoded data removed]",
            "text/plain": [
              "<Figure size 432x432 with 1 Axes>"
            ]
          },
          "metadata": {
            "tags": []
          }
        },
        {
          "output_type": "display_data",
          "data": {
            "image/png": "[encoded data removed]",
            "text/plain": [
              "<Figure size 432x432 with 1 Axes>"
            ]
          },
          "metadata": {
            "tags": []
          }
        }
      ]
    },
    {
      "cell_type": "markdown",
      "metadata": {
        "id": "oACKUUG9056x"
      },
      "source": [
        "\n",
        "*The highest avg time taken to complete a trip is on Friday while Monday, Saturday and Sunday takes the least time.*"
      ]
    },
    {
      "cell_type": "code",
      "metadata": {
        "id": "CiWhS4Ru6fFj",
        "colab": {
          "base_uri": "https://localhost:8080/",
          "height": 534
        },
        "outputId": "050ebfe4-91af-4f8b-ae3f-b196eef0ee2e"
      },
      "source": [
        "#passenger count and trip duration hours\n",
        "sns.scatterplot(x=\"passenger_count\", y=\"duration\", data=data)"
      ],
      "execution_count": null,
      "outputs": [
        {
          "output_type": "execute_result",
          "data": {
            "text/plain": [
              "<matplotlib.axes._subplots.AxesSubplot at 0x7fba4d4e0ed0>"
            ]
          },
          "metadata": {
            "tags": []
          },
          "execution_count": 90
        },
        {
          "output_type": "display_data",
          "data": {
            "image/png": "[encoded data removed]",
            "text/plain": [
              "<Figure size 842.4x595.44 with 1 Axes>"
            ]
          },
          "metadata": {
            "tags": []
          }
        }
      ]
    },
    {
      "cell_type": "markdown",
      "metadata": {
        "id": "idaL4M08cyGy"
      },
      "source": [
        "# **Modelling**"
      ]
    },
    {
      "cell_type": "code",
      "metadata": {
        "id": "CoNnfp9zO3SD"
      },
      "source": [
        "data.head()"
      ],
      "execution_count": null,
      "outputs": []
    },
    {
      "cell_type": "code",
      "metadata": {
        "id": "l8XDzWD8c5wC"
      },
      "source": [
        "# Encode categorical variables of store_n_fwd_flag\n",
        "def flg(b):\n",
        "  if b=='Y':\n",
        "    return 1\n",
        "  else:\n",
        "    return 0"
      ],
      "execution_count": null,
      "outputs": []
    },
    {
      "cell_type": "code",
      "metadata": {
        "id": "co9XlzftOENM"
      },
      "source": [
        "data['flag'] = data.apply(lambda y: flg(y['store_and_fwd_flag']),axis=1)\n",
        "data.head()"
      ],
      "execution_count": null,
      "outputs": []
    },
    {
      "cell_type": "code",
      "metadata": {
        "id": "onjcNh6omJkS"
      },
      "source": [
        "numerics = ['int16', 'int32', 'int64', 'float16', 'float32', 'float64']\n",
        "newdf = data.select_dtypes(include=numerics)"
      ],
      "execution_count": null,
      "outputs": []
    },
    {
      "cell_type": "code",
      "metadata": {
        "id": "DFMIFWY2p_tA"
      },
      "source": [
        "x= newdf.columns\n",
        "x"
      ],
      "execution_count": null,
      "outputs": []
    },
    {
      "cell_type": "code",
      "metadata": {
        "id": "462wGuhJZy9N"
      },
      "source": [
        "#correlation heatmap\n",
        "plt.figure(figsize=(20, 15))\n",
        "heatmap = sns.heatmap(newdf.corr(), vmin=-1, vmax=1, annot=True)\n",
        "heatmap.set_title('Correlation Heatmap', fontdict={'fontsize':12}, pad=12);"
      ],
      "execution_count": null,
      "outputs": []
    },
    {
      "cell_type": "markdown",
      "metadata": {
        "id": "Zgm8tuCl-4y9"
      },
      "source": [
        "This shows theres no strong correlation between any of the features and the target variable: duration. Hence, we opt for Backward Elimation technique to determine feature importance, using OLS Model"
      ]
    },
    {
      "cell_type": "markdown",
      "metadata": {
        "id": "q9y_-7pZqtr8"
      },
      "source": [
        "**Linear Regression**"
      ]
    },
    {
      "cell_type": "code",
      "metadata": {
        "id": "2-MhIv1fKQKK"
      },
      "source": [
        "newdf.head()\n"
      ],
      "execution_count": null,
      "outputs": []
    },
    {
      "cell_type": "code",
      "metadata": {
        "id": "y2e6MCDPkQFc"
      },
      "source": [
        "newdf.drop(['trip_duration','up_month','off_month','pickup_hour','dropoff_hour'],axis=1)"
      ],
      "execution_count": null,
      "outputs": []
    },
    {
      "cell_type": "code",
      "metadata": {
        "id": "5d0XDJZFTFUi"
      },
      "source": [
        "features= newdf\n",
        "features.head()"
      ],
      "execution_count": null,
      "outputs": []
    },
    {
      "cell_type": "code",
      "metadata": {
        "colab": {
          "background_save": true
        },
        "id": "gfA8UeRnKBZ8"
      },
      "source": [
        "x1 = newdf[['vendor_id', 'passenger_count', 'pickup_longitude', 'pickup_latitude','dropoff_longitude', 'dropoff_latitude','distance','up_slot', 'off_slot', 'up_quarter', 'off_quarter', 'flag']]\n",
        "#scaled x\n",
        "from sklearn import preprocessing\n",
        "scaler = preprocessing.MinMaxScaler()\n",
        "x = scaler.fit_transform(x1)\n",
        "y = newdf['duration']"
      ],
      "execution_count": null,
      "outputs": []
    },
    {
      "cell_type": "code",
      "metadata": {
        "colab": {
          "background_save": true
        },
        "id": "F8_yXsqHrLI_",
        "outputId": "35cfdf0b-ac48-4989-dd22-100792ce8a8c"
      },
      "source": [
        "# Splitting the dataset into training and test set.  \n",
        "x_train, x_test, y_train, y_test= train_test_split(x, y, test_size= 0.3, random_state=0)  \n",
        "\n",
        "#  Instantiate model object\n",
        "reg = LinearRegression()\n",
        "\n",
        "# Fit to training data\n",
        "reg.fit(x_train,y_train)\n",
        "\n",
        "# Predict\n",
        "y_pred = reg.predict(x_test)\n",
        "\n",
        "#checking scores\n",
        "print('Train Score: ', reg.score(x_train, y_train))  \n",
        "print('Test Score: ', reg.score(x_test, y_test))  "
      ],
      "execution_count": null,
      "outputs": [
        {
          "output_type": "stream",
          "text": [
            "Train Score:  0.008404171353792678\n",
            "Test Score:  0.022097937743520424\n"
          ],
          "name": "stdout"
        }
      ]
    },
    {
      "cell_type": "markdown",
      "metadata": {
        "id": "mqLfXVqmif2G"
      },
      "source": [
        "Apart from the score difference, we see how they reflect the fact that there has been no such strong correlation between features. Hence we try to understand the model using Backward Elimination Technique"
      ]
    },
    {
      "cell_type": "markdown",
      "metadata": {
        "id": "uTMIrBNgjU9U"
      },
      "source": [
        "**FEATURE SELECTION**"
      ]
    },
    {
      "cell_type": "code",
      "metadata": {
        "colab": {
          "background_save": true
        },
        "id": "hdwdFLvHhyaB"
      },
      "source": [
        "def backward_elimination(data, target,significance_level = 0.05):\n",
        "    features = data.columns.tolist()\n",
        "    while(len(features)>0):\n",
        "        features_with_constant = sm.add_constant(data[features])\n",
        "        p_values = sm.OLS(target, features_with_constant).fit().pvalues[1:]\n",
        "        max_p_value = p_values.max()\n",
        "        if(max_p_value >= significance_level):\n",
        "            excluded_feature = p_values.idxmax()\n",
        "            features.remove(excluded_feature)\n",
        "        else:\n",
        "            break \n",
        "    return features"
      ],
      "execution_count": null,
      "outputs": []
    },
    {
      "cell_type": "code",
      "metadata": {
        "colab": {
          "background_save": true
        },
        "id": "aohOfTKtjhzG",
        "outputId": "c77dd2f8-6100-4090-f7c5-56f2c2e6b10f"
      },
      "source": [
        "backward_elimination(newdf,y,0.05)"
      ],
      "execution_count": null,
      "outputs": [
        {
          "output_type": "execute_result",
          "data": {
            "text/plain": [
              "['vendor_id', 'dropoff_latitude', 'trip_duration', 'distance', 'duration']"
            ]
          },
          "metadata": {
            "tags": []
          },
          "execution_count": 0
        }
      ]
    },
    {
      "cell_type": "code",
      "metadata": {
        "colab": {
          "background_save": true
        },
        "id": "WqxjkNnJ1Edx",
        "outputId": "aa2b828f-ff17-4d06-b8bb-2985d4504568"
      },
      "source": [
        "import statsmodels.regression.linear_model as sm\n",
        "# add a column of ones as integer data type\n",
        "x = np.append(arr = np.ones((1452692, 1)).astype(int), \n",
        "              values = x, axis = 1)\n",
        "# choose a Significance level usually 0.05, if p>0.05\n",
        "#  for the highest values parameter, remove that value\n",
        "x_opt = x[:, [0, 1, 2, 3, 4, 5, 6, 7, 8, 9, 10, 11, 12]]\n",
        "ols = sm.OLS(endog = y, exog = x_opt).fit()\n",
        "ols.summary()"
      ],
      "execution_count": null,
      "outputs": [
        {
          "output_type": "execute_result",
          "data": {
            "text/html": [
              "<table class=\"simpletable\">\n",
              "<caption>OLS Regression Results</caption>\n",
              "<tr>\n",
              "  <th>Dep. Variable:</th>        <td>duration</td>     <th>  R-squared:         </th>  <td>   0.010</td>  \n",
              "</tr>\n",
              "<tr>\n",
              "  <th>Model:</th>                   <td>OLS</td>       <th>  Adj. R-squared:    </th>  <td>   0.010</td>  \n",
              "</tr>\n",
              "<tr>\n",
              "  <th>Method:</th>             <td>Least Squares</td>  <th>  F-statistic:       </th>  <td>   1223.</td>  \n",
              "</tr>\n",
              "<tr>\n",
              "  <th>Date:</th>             <td>Mon, 26 Apr 2021</td> <th>  Prob (F-statistic):</th>   <td>  0.00</td>   \n",
              "</tr>\n",
              "<tr>\n",
              "  <th>Time:</th>                 <td>03:27:13</td>     <th>  Log-Likelihood:    </th> <td>-2.6010e+06</td>\n",
              "</tr>\n",
              "<tr>\n",
              "  <th>No. Observations:</th>      <td>1452692</td>     <th>  AIC:               </th>  <td>5.202e+06</td> \n",
              "</tr>\n",
              "<tr>\n",
              "  <th>Df Residuals:</th>          <td>1452679</td>     <th>  BIC:               </th>  <td>5.202e+06</td> \n",
              "</tr>\n",
              "<tr>\n",
              "  <th>Df Model:</th>              <td>    12</td>      <th>                     </th>      <td> </td>     \n",
              "</tr>\n",
              "<tr>\n",
              "  <th>Covariance Type:</th>      <td>nonrobust</td>    <th>                     </th>      <td> </td>     \n",
              "</tr>\n",
              "</table>\n",
              "<table class=\"simpletable\">\n",
              "<tr>\n",
              "    <td></td>       <th>coef</th>     <th>std err</th>      <th>t</th>      <th>P>|t|</th>  <th>[0.025</th>    <th>0.975]</th>  \n",
              "</tr>\n",
              "<tr>\n",
              "  <th>const</th> <td>   -0.2948</td> <td>    0.931</td> <td>   -0.317</td> <td> 0.752</td> <td>   -2.120</td> <td>    1.530</td>\n",
              "</tr>\n",
              "<tr>\n",
              "  <th>x1</th>    <td>    0.0554</td> <td>    0.003</td> <td>   21.948</td> <td> 0.000</td> <td>    0.050</td> <td>    0.060</td>\n",
              "</tr>\n",
              "<tr>\n",
              "  <th>x2</th>    <td>    0.0111</td> <td>    0.005</td> <td>    2.313</td> <td> 0.021</td> <td>    0.002</td> <td>    0.020</td>\n",
              "</tr>\n",
              "<tr>\n",
              "  <th>x3</th>    <td>    0.4932</td> <td>    1.566</td> <td>    0.315</td> <td> 0.753</td> <td>   -2.577</td> <td>    3.563</td>\n",
              "</tr>\n",
              "<tr>\n",
              "  <th>x4</th>    <td>   -7.3395</td> <td>    0.759</td> <td>   -9.675</td> <td> 0.000</td> <td>   -8.826</td> <td>   -5.853</td>\n",
              "</tr>\n",
              "<tr>\n",
              "  <th>x5</th>    <td>    4.7789</td> <td>    1.481</td> <td>    3.226</td> <td> 0.001</td> <td>    1.875</td> <td>    7.683</td>\n",
              "</tr>\n",
              "<tr>\n",
              "  <th>x6</th>    <td>   -2.4344</td> <td>    0.464</td> <td>   -5.249</td> <td> 0.000</td> <td>   -3.343</td> <td>   -1.525</td>\n",
              "</tr>\n",
              "<tr>\n",
              "  <th>x7</th>    <td>   38.1831</td> <td>    0.375</td> <td>  101.861</td> <td> 0.000</td> <td>   37.448</td> <td>   38.918</td>\n",
              "</tr>\n",
              "<tr>\n",
              "  <th>x8</th>    <td>   -0.0101</td> <td>    0.011</td> <td>   -0.951</td> <td> 0.342</td> <td>   -0.031</td> <td>    0.011</td>\n",
              "</tr>\n",
              "<tr>\n",
              "  <th>x9</th>    <td>    0.0295</td> <td>    0.010</td> <td>    2.815</td> <td> 0.005</td> <td>    0.009</td> <td>    0.050</td>\n",
              "</tr>\n",
              "<tr>\n",
              "  <th>x10</th>   <td>   -2.4852</td> <td>    0.094</td> <td>  -26.356</td> <td> 0.000</td> <td>   -2.670</td> <td>   -2.300</td>\n",
              "</tr>\n",
              "<tr>\n",
              "  <th>x11</th>   <td>    4.9991</td> <td>    0.189</td> <td>   26.517</td> <td> 0.000</td> <td>    4.630</td> <td>    5.369</td>\n",
              "</tr>\n",
              "<tr>\n",
              "  <th>x12</th>   <td>    0.0148</td> <td>    0.016</td> <td>    0.907</td> <td> 0.364</td> <td>   -0.017</td> <td>    0.047</td>\n",
              "</tr>\n",
              "</table>\n",
              "<table class=\"simpletable\">\n",
              "<tr>\n",
              "  <th>Omnibus:</th>       <td>8279630.478</td> <th>  Durbin-Watson:     </th>       <td>   2.000</td>      \n",
              "</tr>\n",
              "<tr>\n",
              "  <th>Prob(Omnibus):</th>   <td> 0.000</td>    <th>  Jarque-Bera (JB):  </th> <td>2306225536012102.500</td>\n",
              "</tr>\n",
              "<tr>\n",
              "  <th>Skew:</th>            <td>347.564</td>   <th>  Prob(JB):          </th>       <td>    0.00</td>      \n",
              "</tr>\n",
              "<tr>\n",
              "  <th>Kurtosis:</th>      <td>195197.233</td>  <th>  Cond. No.          </th>       <td>3.62e+03</td>      \n",
              "</tr>\n",
              "</table><br/><br/>Warnings:<br/>[1] Standard Errors assume that the covariance matrix of the errors is correctly specified.<br/>[2] The condition number is large, 3.62e+03. This might indicate that there are<br/>strong multicollinearity or other numerical problems."
            ],
            "text/plain": [
              "<class 'statsmodels.iolib.summary.Summary'>\n",
              "\"\"\"\n",
              "                            OLS Regression Results                            \n",
              "==============================================================================\n",
              "Dep. Variable:               duration   R-squared:                       0.010\n",
              "Model:                            OLS   Adj. R-squared:                  0.010\n",
              "Method:                 Least Squares   F-statistic:                     1223.\n",
              "Date:                Mon, 26 Apr 2021   Prob (F-statistic):               0.00\n",
              "Time:                        03:27:13   Log-Likelihood:            -2.6010e+06\n",
              "No. Observations:             1452692   AIC:                         5.202e+06\n",
              "Df Residuals:                 1452679   BIC:                         5.202e+06\n",
              "Df Model:                          12                                         \n",
              "Covariance Type:            nonrobust                                         \n",
              "==============================================================================\n",
              "                 coef    std err          t      P>|t|      [0.025      0.975]\n",
              "------------------------------------------------------------------------------\n",
              "const         -0.2948      0.931     -0.317      0.752      -2.120       1.530\n",
              "x1             0.0554      0.003     21.948      0.000       0.050       0.060\n",
              "x2             0.0111      0.005      2.313      0.021       0.002       0.020\n",
              "x3             0.4932      1.566      0.315      0.753      -2.577       3.563\n",
              "x4            -7.3395      0.759     -9.675      0.000      -8.826      -5.853\n",
              "x5             4.7789      1.481      3.226      0.001       1.875       7.683\n",
              "x6            -2.4344      0.464     -5.249      0.000      -3.343      -1.525\n",
              "x7            38.1831      0.375    101.861      0.000      37.448      38.918\n",
              "x8            -0.0101      0.011     -0.951      0.342      -0.031       0.011\n",
              "x9             0.0295      0.010      2.815      0.005       0.009       0.050\n",
              "x10           -2.4852      0.094    -26.356      0.000      -2.670      -2.300\n",
              "x11            4.9991      0.189     26.517      0.000       4.630       5.369\n",
              "x12            0.0148      0.016      0.907      0.364      -0.017       0.047\n",
              "================================================================================\n",
              "Omnibus:                  8279630.478   Durbin-Watson:                     2.000\n",
              "Prob(Omnibus):                  0.000   Jarque-Bera (JB):   2306225536012102.500\n",
              "Skew:                         347.564   Prob(JB):                           0.00\n",
              "Kurtosis:                  195197.233   Cond. No.                       3.62e+03\n",
              "================================================================================\n",
              "\n",
              "Warnings:\n",
              "[1] Standard Errors assume that the covariance matrix of the errors is correctly specified.\n",
              "[2] The condition number is large, 3.62e+03. This might indicate that there are\n",
              "strong multicollinearity or other numerical problems.\n",
              "\"\"\""
            ]
          },
          "metadata": {
            "tags": []
          },
          "execution_count": 0
        }
      ]
    },
    {
      "cell_type": "markdown",
      "metadata": {
        "id": "SeTganvBlKVI"
      },
      "source": [
        "We see that the highest value of P is 0.785, hence, we throw out x3 as it has highest value"
      ]
    },
    {
      "cell_type": "code",
      "metadata": {
        "colab": {
          "background_save": true
        },
        "id": "3VRvF-IslJRT",
        "outputId": "c7c01f2e-b7ef-4563-c6a8-d39738eeedad"
      },
      "source": [
        "# remove the 3rd column as it has the highest value\n",
        "x_opt = x[:, [0, 1, 2, 4, 5, 6, 7, 8, 9, 10, 11, 12]]\n",
        "ols = sm.OLS(endog = y, exog = x_opt).fit()\n",
        "ols.summary()\n"
      ],
      "execution_count": null,
      "outputs": [
        {
          "output_type": "execute_result",
          "data": {
            "text/html": [
              "<table class=\"simpletable\">\n",
              "<caption>OLS Regression Results</caption>\n",
              "<tr>\n",
              "  <th>Dep. Variable:</th>        <td>duration</td>     <th>  R-squared:         </th>  <td>   0.010</td>  \n",
              "</tr>\n",
              "<tr>\n",
              "  <th>Model:</th>                   <td>OLS</td>       <th>  Adj. R-squared:    </th>  <td>   0.010</td>  \n",
              "</tr>\n",
              "<tr>\n",
              "  <th>Method:</th>             <td>Least Squares</td>  <th>  F-statistic:       </th>  <td>   1335.</td>  \n",
              "</tr>\n",
              "<tr>\n",
              "  <th>Date:</th>             <td>Mon, 26 Apr 2021</td> <th>  Prob (F-statistic):</th>   <td>  0.00</td>   \n",
              "</tr>\n",
              "<tr>\n",
              "  <th>Time:</th>                 <td>03:27:14</td>     <th>  Log-Likelihood:    </th> <td>-2.6010e+06</td>\n",
              "</tr>\n",
              "<tr>\n",
              "  <th>No. Observations:</th>      <td>1452692</td>     <th>  AIC:               </th>  <td>5.202e+06</td> \n",
              "</tr>\n",
              "<tr>\n",
              "  <th>Df Residuals:</th>          <td>1452680</td>     <th>  BIC:               </th>  <td>5.202e+06</td> \n",
              "</tr>\n",
              "<tr>\n",
              "  <th>Df Model:</th>              <td>    11</td>      <th>                     </th>      <td> </td>     \n",
              "</tr>\n",
              "<tr>\n",
              "  <th>Covariance Type:</th>      <td>nonrobust</td>    <th>                     </th>      <td> </td>     \n",
              "</tr>\n",
              "</table>\n",
              "<table class=\"simpletable\">\n",
              "<tr>\n",
              "    <td></td>       <th>coef</th>     <th>std err</th>      <th>t</th>      <th>P>|t|</th>  <th>[0.025</th>    <th>0.975]</th>  \n",
              "</tr>\n",
              "<tr>\n",
              "  <th>const</th> <td>   -0.1888</td> <td>    0.868</td> <td>   -0.217</td> <td> 0.828</td> <td>   -1.890</td> <td>    1.513</td>\n",
              "</tr>\n",
              "<tr>\n",
              "  <th>x1</th>    <td>    0.0554</td> <td>    0.003</td> <td>   21.951</td> <td> 0.000</td> <td>    0.050</td> <td>    0.060</td>\n",
              "</tr>\n",
              "<tr>\n",
              "  <th>x2</th>    <td>    0.0111</td> <td>    0.005</td> <td>    2.313</td> <td> 0.021</td> <td>    0.002</td> <td>    0.020</td>\n",
              "</tr>\n",
              "<tr>\n",
              "  <th>x3</th>    <td>   -7.3583</td> <td>    0.756</td> <td>   -9.730</td> <td> 0.000</td> <td>   -8.840</td> <td>   -5.876</td>\n",
              "</tr>\n",
              "<tr>\n",
              "  <th>x4</th>    <td>    5.1336</td> <td>    0.962</td> <td>    5.336</td> <td> 0.000</td> <td>    3.248</td> <td>    7.019</td>\n",
              "</tr>\n",
              "<tr>\n",
              "  <th>x5</th>    <td>   -2.4219</td> <td>    0.462</td> <td>   -5.241</td> <td> 0.000</td> <td>   -3.328</td> <td>   -1.516</td>\n",
              "</tr>\n",
              "<tr>\n",
              "  <th>x6</th>    <td>   38.2121</td> <td>    0.363</td> <td>  105.163</td> <td> 0.000</td> <td>   37.500</td> <td>   38.924</td>\n",
              "</tr>\n",
              "<tr>\n",
              "  <th>x7</th>    <td>   -0.0101</td> <td>    0.011</td> <td>   -0.952</td> <td> 0.341</td> <td>   -0.031</td> <td>    0.011</td>\n",
              "</tr>\n",
              "<tr>\n",
              "  <th>x8</th>    <td>    0.0296</td> <td>    0.010</td> <td>    2.822</td> <td> 0.005</td> <td>    0.009</td> <td>    0.050</td>\n",
              "</tr>\n",
              "<tr>\n",
              "  <th>x9</th>    <td>   -2.4852</td> <td>    0.094</td> <td>  -26.356</td> <td> 0.000</td> <td>   -2.670</td> <td>   -2.300</td>\n",
              "</tr>\n",
              "<tr>\n",
              "  <th>x10</th>   <td>    4.9990</td> <td>    0.189</td> <td>   26.516</td> <td> 0.000</td> <td>    4.630</td> <td>    5.369</td>\n",
              "</tr>\n",
              "<tr>\n",
              "  <th>x11</th>   <td>    0.0148</td> <td>    0.016</td> <td>    0.907</td> <td> 0.364</td> <td>   -0.017</td> <td>    0.047</td>\n",
              "</tr>\n",
              "</table>\n",
              "<table class=\"simpletable\">\n",
              "<tr>\n",
              "  <th>Omnibus:</th>       <td>8279637.358</td> <th>  Durbin-Watson:     </th>       <td>   2.000</td>      \n",
              "</tr>\n",
              "<tr>\n",
              "  <th>Prob(Omnibus):</th>   <td> 0.000</td>    <th>  Jarque-Bera (JB):  </th> <td>2306245888206206.500</td>\n",
              "</tr>\n",
              "<tr>\n",
              "  <th>Skew:</th>            <td>347.565</td>   <th>  Prob(JB):          </th>       <td>    0.00</td>      \n",
              "</tr>\n",
              "<tr>\n",
              "  <th>Kurtosis:</th>      <td>195198.095</td>  <th>  Cond. No.          </th>       <td>2.08e+03</td>      \n",
              "</tr>\n",
              "</table><br/><br/>Warnings:<br/>[1] Standard Errors assume that the covariance matrix of the errors is correctly specified.<br/>[2] The condition number is large, 2.08e+03. This might indicate that there are<br/>strong multicollinearity or other numerical problems."
            ],
            "text/plain": [
              "<class 'statsmodels.iolib.summary.Summary'>\n",
              "\"\"\"\n",
              "                            OLS Regression Results                            \n",
              "==============================================================================\n",
              "Dep. Variable:               duration   R-squared:                       0.010\n",
              "Model:                            OLS   Adj. R-squared:                  0.010\n",
              "Method:                 Least Squares   F-statistic:                     1335.\n",
              "Date:                Mon, 26 Apr 2021   Prob (F-statistic):               0.00\n",
              "Time:                        03:27:14   Log-Likelihood:            -2.6010e+06\n",
              "No. Observations:             1452692   AIC:                         5.202e+06\n",
              "Df Residuals:                 1452680   BIC:                         5.202e+06\n",
              "Df Model:                          11                                         \n",
              "Covariance Type:            nonrobust                                         \n",
              "==============================================================================\n",
              "                 coef    std err          t      P>|t|      [0.025      0.975]\n",
              "------------------------------------------------------------------------------\n",
              "const         -0.1888      0.868     -0.217      0.828      -1.890       1.513\n",
              "x1             0.0554      0.003     21.951      0.000       0.050       0.060\n",
              "x2             0.0111      0.005      2.313      0.021       0.002       0.020\n",
              "x3            -7.3583      0.756     -9.730      0.000      -8.840      -5.876\n",
              "x4             5.1336      0.962      5.336      0.000       3.248       7.019\n",
              "x5            -2.4219      0.462     -5.241      0.000      -3.328      -1.516\n",
              "x6            38.2121      0.363    105.163      0.000      37.500      38.924\n",
              "x7            -0.0101      0.011     -0.952      0.341      -0.031       0.011\n",
              "x8             0.0296      0.010      2.822      0.005       0.009       0.050\n",
              "x9            -2.4852      0.094    -26.356      0.000      -2.670      -2.300\n",
              "x10            4.9990      0.189     26.516      0.000       4.630       5.369\n",
              "x11            0.0148      0.016      0.907      0.364      -0.017       0.047\n",
              "================================================================================\n",
              "Omnibus:                  8279637.358   Durbin-Watson:                     2.000\n",
              "Prob(Omnibus):                  0.000   Jarque-Bera (JB):   2306245888206206.500\n",
              "Skew:                         347.565   Prob(JB):                           0.00\n",
              "Kurtosis:                  195198.095   Cond. No.                       2.08e+03\n",
              "================================================================================\n",
              "\n",
              "Warnings:\n",
              "[1] Standard Errors assume that the covariance matrix of the errors is correctly specified.\n",
              "[2] The condition number is large, 2.08e+03. This might indicate that there are\n",
              "strong multicollinearity or other numerical problems.\n",
              "\"\"\""
            ]
          },
          "metadata": {
            "tags": []
          },
          "execution_count": 0
        }
      ]
    },
    {
      "cell_type": "code",
      "metadata": {
        "colab": {
          "background_save": true
        },
        "id": "sq_p0ibYvBLm",
        "outputId": "608ee108-d9fd-48b4-facd-7b13297906c0"
      },
      "source": [
        "# remove the 0th column as it has the highest value\n",
        "x_opt = x[:, [1, 2, 4, 5, 6, 7, 8, 9, 10, 11, 12]]\n",
        "ols = sm.OLS(endog = y, exog = x_opt).fit()\n",
        "ols.summary()\n"
      ],
      "execution_count": null,
      "outputs": [
        {
          "output_type": "execute_result",
          "data": {
            "text/html": [
              "<table class=\"simpletable\">\n",
              "<caption>OLS Regression Results</caption>\n",
              "<tr>\n",
              "  <th>Dep. Variable:</th>        <td>duration</td>     <th>  R-squared (uncentered):</th>       <td>   0.042</td>  \n",
              "</tr>\n",
              "<tr>\n",
              "  <th>Model:</th>                   <td>OLS</td>       <th>  Adj. R-squared (uncentered):</th>  <td>   0.042</td>  \n",
              "</tr>\n",
              "<tr>\n",
              "  <th>Method:</th>             <td>Least Squares</td>  <th>  F-statistic:       </th>           <td>   5813.</td>  \n",
              "</tr>\n",
              "<tr>\n",
              "  <th>Date:</th>             <td>Mon, 26 Apr 2021</td> <th>  Prob (F-statistic):</th>            <td>  0.00</td>   \n",
              "</tr>\n",
              "<tr>\n",
              "  <th>Time:</th>                 <td>03:27:15</td>     <th>  Log-Likelihood:    </th>          <td>-2.6010e+06</td>\n",
              "</tr>\n",
              "<tr>\n",
              "  <th>No. Observations:</th>      <td>1452692</td>     <th>  AIC:               </th>           <td>5.202e+06</td> \n",
              "</tr>\n",
              "<tr>\n",
              "  <th>Df Residuals:</th>          <td>1452681</td>     <th>  BIC:               </th>           <td>5.202e+06</td> \n",
              "</tr>\n",
              "<tr>\n",
              "  <th>Df Model:</th>              <td>    11</td>      <th>                     </th>               <td> </td>     \n",
              "</tr>\n",
              "<tr>\n",
              "  <th>Covariance Type:</th>      <td>nonrobust</td>    <th>                     </th>               <td> </td>     \n",
              "</tr>\n",
              "</table>\n",
              "<table class=\"simpletable\">\n",
              "<tr>\n",
              "   <td></td>      <th>coef</th>     <th>std err</th>      <th>t</th>      <th>P>|t|</th>  <th>[0.025</th>    <th>0.975]</th>  \n",
              "</tr>\n",
              "<tr>\n",
              "  <th>x1</th>  <td>    0.0554</td> <td>    0.003</td> <td>   21.952</td> <td> 0.000</td> <td>    0.050</td> <td>    0.060</td>\n",
              "</tr>\n",
              "<tr>\n",
              "  <th>x2</th>  <td>    0.0111</td> <td>    0.005</td> <td>    2.312</td> <td> 0.021</td> <td>    0.002</td> <td>    0.020</td>\n",
              "</tr>\n",
              "<tr>\n",
              "  <th>x3</th>  <td>   -7.3636</td> <td>    0.756</td> <td>   -9.742</td> <td> 0.000</td> <td>   -8.845</td> <td>   -5.882</td>\n",
              "</tr>\n",
              "<tr>\n",
              "  <th>x4</th>  <td>    4.9400</td> <td>    0.364</td> <td>   13.564</td> <td> 0.000</td> <td>    4.226</td> <td>    5.654</td>\n",
              "</tr>\n",
              "<tr>\n",
              "  <th>x5</th>  <td>   -2.4374</td> <td>    0.457</td> <td>   -5.339</td> <td> 0.000</td> <td>   -3.332</td> <td>   -1.543</td>\n",
              "</tr>\n",
              "<tr>\n",
              "  <th>x6</th>  <td>   38.2195</td> <td>    0.362</td> <td>  105.649</td> <td> 0.000</td> <td>   37.511</td> <td>   38.929</td>\n",
              "</tr>\n",
              "<tr>\n",
              "  <th>x7</th>  <td>   -0.0101</td> <td>    0.011</td> <td>   -0.953</td> <td> 0.341</td> <td>   -0.031</td> <td>    0.011</td>\n",
              "</tr>\n",
              "<tr>\n",
              "  <th>x8</th>  <td>    0.0296</td> <td>    0.010</td> <td>    2.821</td> <td> 0.005</td> <td>    0.009</td> <td>    0.050</td>\n",
              "</tr>\n",
              "<tr>\n",
              "  <th>x9</th>  <td>   -2.4852</td> <td>    0.094</td> <td>  -26.356</td> <td> 0.000</td> <td>   -2.670</td> <td>   -2.300</td>\n",
              "</tr>\n",
              "<tr>\n",
              "  <th>x10</th> <td>    4.9991</td> <td>    0.189</td> <td>   26.516</td> <td> 0.000</td> <td>    4.630</td> <td>    5.369</td>\n",
              "</tr>\n",
              "<tr>\n",
              "  <th>x11</th> <td>    0.0148</td> <td>    0.016</td> <td>    0.908</td> <td> 0.364</td> <td>   -0.017</td> <td>    0.047</td>\n",
              "</tr>\n",
              "</table>\n",
              "<table class=\"simpletable\">\n",
              "<tr>\n",
              "  <th>Omnibus:</th>       <td>8279636.185</td> <th>  Durbin-Watson:     </th>       <td>   2.000</td>      \n",
              "</tr>\n",
              "<tr>\n",
              "  <th>Prob(Omnibus):</th>   <td> 0.000</td>    <th>  Jarque-Bera (JB):  </th> <td>2306243117193600.500</td>\n",
              "</tr>\n",
              "<tr>\n",
              "  <th>Skew:</th>            <td>347.565</td>   <th>  Prob(JB):          </th>       <td>    0.00</td>      \n",
              "</tr>\n",
              "<tr>\n",
              "  <th>Kurtosis:</th>      <td>195197.977</td>  <th>  Cond. No.          </th>       <td>1.13e+03</td>      \n",
              "</tr>\n",
              "</table><br/><br/>Warnings:<br/>[1] Standard Errors assume that the covariance matrix of the errors is correctly specified.<br/>[2] The condition number is large, 1.13e+03. This might indicate that there are<br/>strong multicollinearity or other numerical problems."
            ],
            "text/plain": [
              "<class 'statsmodels.iolib.summary.Summary'>\n",
              "\"\"\"\n",
              "                                 OLS Regression Results                                \n",
              "=======================================================================================\n",
              "Dep. Variable:               duration   R-squared (uncentered):                   0.042\n",
              "Model:                            OLS   Adj. R-squared (uncentered):              0.042\n",
              "Method:                 Least Squares   F-statistic:                              5813.\n",
              "Date:                Mon, 26 Apr 2021   Prob (F-statistic):                        0.00\n",
              "Time:                        03:27:15   Log-Likelihood:                     -2.6010e+06\n",
              "No. Observations:             1452692   AIC:                                  5.202e+06\n",
              "Df Residuals:                 1452681   BIC:                                  5.202e+06\n",
              "Df Model:                          11                                                  \n",
              "Covariance Type:            nonrobust                                                  \n",
              "==============================================================================\n",
              "                 coef    std err          t      P>|t|      [0.025      0.975]\n",
              "------------------------------------------------------------------------------\n",
              "x1             0.0554      0.003     21.952      0.000       0.050       0.060\n",
              "x2             0.0111      0.005      2.312      0.021       0.002       0.020\n",
              "x3            -7.3636      0.756     -9.742      0.000      -8.845      -5.882\n",
              "x4             4.9400      0.364     13.564      0.000       4.226       5.654\n",
              "x5            -2.4374      0.457     -5.339      0.000      -3.332      -1.543\n",
              "x6            38.2195      0.362    105.649      0.000      37.511      38.929\n",
              "x7            -0.0101      0.011     -0.953      0.341      -0.031       0.011\n",
              "x8             0.0296      0.010      2.821      0.005       0.009       0.050\n",
              "x9            -2.4852      0.094    -26.356      0.000      -2.670      -2.300\n",
              "x10            4.9991      0.189     26.516      0.000       4.630       5.369\n",
              "x11            0.0148      0.016      0.908      0.364      -0.017       0.047\n",
              "================================================================================\n",
              "Omnibus:                  8279636.185   Durbin-Watson:                     2.000\n",
              "Prob(Omnibus):                  0.000   Jarque-Bera (JB):   2306243117193600.500\n",
              "Skew:                         347.565   Prob(JB):                           0.00\n",
              "Kurtosis:                  195197.977   Cond. No.                       1.13e+03\n",
              "================================================================================\n",
              "\n",
              "Warnings:\n",
              "[1] Standard Errors assume that the covariance matrix of the errors is correctly specified.\n",
              "[2] The condition number is large, 1.13e+03. This might indicate that there are\n",
              "strong multicollinearity or other numerical problems.\n",
              "\"\"\""
            ]
          },
          "metadata": {
            "tags": []
          },
          "execution_count": 0
        }
      ]
    },
    {
      "cell_type": "code",
      "metadata": {
        "colab": {
          "background_save": true
        },
        "id": "n7NmCXxmYbsx",
        "outputId": "1c43d32f-881d-426b-ff68-33e0cf5df35e"
      },
      "source": [
        "# remove the 11th column as it has the highest value\n",
        "x_opt = x[:, [1, 2, 4, 5, 6, 7, 8, 9, 10, 12]]\n",
        "ols = sm.OLS(endog = y, exog = x_opt).fit()\n",
        "ols.summary()"
      ],
      "execution_count": null,
      "outputs": [
        {
          "output_type": "execute_result",
          "data": {
            "text/html": [
              "<table class=\"simpletable\">\n",
              "<caption>OLS Regression Results</caption>\n",
              "<tr>\n",
              "  <th>Dep. Variable:</th>        <td>duration</td>     <th>  R-squared (uncentered):</th>       <td>   0.042</td>  \n",
              "</tr>\n",
              "<tr>\n",
              "  <th>Model:</th>                   <td>OLS</td>       <th>  Adj. R-squared (uncentered):</th>  <td>   0.042</td>  \n",
              "</tr>\n",
              "<tr>\n",
              "  <th>Method:</th>             <td>Least Squares</td>  <th>  F-statistic:       </th>           <td>   6321.</td>  \n",
              "</tr>\n",
              "<tr>\n",
              "  <th>Date:</th>             <td>Mon, 26 Apr 2021</td> <th>  Prob (F-statistic):</th>            <td>  0.00</td>   \n",
              "</tr>\n",
              "<tr>\n",
              "  <th>Time:</th>                 <td>03:27:16</td>     <th>  Log-Likelihood:    </th>          <td>-2.6013e+06</td>\n",
              "</tr>\n",
              "<tr>\n",
              "  <th>No. Observations:</th>      <td>1452692</td>     <th>  AIC:               </th>           <td>5.203e+06</td> \n",
              "</tr>\n",
              "<tr>\n",
              "  <th>Df Residuals:</th>          <td>1452682</td>     <th>  BIC:               </th>           <td>5.203e+06</td> \n",
              "</tr>\n",
              "<tr>\n",
              "  <th>Df Model:</th>              <td>    10</td>      <th>                     </th>               <td> </td>     \n",
              "</tr>\n",
              "<tr>\n",
              "  <th>Covariance Type:</th>      <td>nonrobust</td>    <th>                     </th>               <td> </td>     \n",
              "</tr>\n",
              "</table>\n",
              "<table class=\"simpletable\">\n",
              "<tr>\n",
              "   <td></td>      <th>coef</th>     <th>std err</th>      <th>t</th>      <th>P>|t|</th>  <th>[0.025</th>    <th>0.975]</th>  \n",
              "</tr>\n",
              "<tr>\n",
              "  <th>x1</th>  <td>    0.0554</td> <td>    0.003</td> <td>   21.939</td> <td> 0.000</td> <td>    0.050</td> <td>    0.060</td>\n",
              "</tr>\n",
              "<tr>\n",
              "  <th>x2</th>  <td>    0.0110</td> <td>    0.005</td> <td>    2.295</td> <td> 0.022</td> <td>    0.002</td> <td>    0.020</td>\n",
              "</tr>\n",
              "<tr>\n",
              "  <th>x3</th>  <td>   -7.3565</td> <td>    0.756</td> <td>   -9.731</td> <td> 0.000</td> <td>   -8.838</td> <td>   -5.875</td>\n",
              "</tr>\n",
              "<tr>\n",
              "  <th>x4</th>  <td>    4.9528</td> <td>    0.364</td> <td>   13.596</td> <td> 0.000</td> <td>    4.239</td> <td>    5.667</td>\n",
              "</tr>\n",
              "<tr>\n",
              "  <th>x5</th>  <td>   -2.4564</td> <td>    0.457</td> <td>   -5.379</td> <td> 0.000</td> <td>   -3.351</td> <td>   -1.561</td>\n",
              "</tr>\n",
              "<tr>\n",
              "  <th>x6</th>  <td>   38.3035</td> <td>    0.362</td> <td>  105.860</td> <td> 0.000</td> <td>   37.594</td> <td>   39.013</td>\n",
              "</tr>\n",
              "<tr>\n",
              "  <th>x7</th>  <td>    0.0171</td> <td>    0.011</td> <td>    1.623</td> <td> 0.105</td> <td>   -0.004</td> <td>    0.038</td>\n",
              "</tr>\n",
              "<tr>\n",
              "  <th>x8</th>  <td>    0.0024</td> <td>    0.010</td> <td>    0.233</td> <td> 0.816</td> <td>   -0.018</td> <td>    0.023</td>\n",
              "</tr>\n",
              "<tr>\n",
              "  <th>x9</th>  <td>    0.0143</td> <td>    0.002</td> <td>    5.955</td> <td> 0.000</td> <td>    0.010</td> <td>    0.019</td>\n",
              "</tr>\n",
              "<tr>\n",
              "  <th>x10</th> <td>    0.0144</td> <td>    0.016</td> <td>    0.879</td> <td> 0.379</td> <td>   -0.018</td> <td>    0.046</td>\n",
              "</tr>\n",
              "</table>\n",
              "<table class=\"simpletable\">\n",
              "<tr>\n",
              "  <th>Omnibus:</th>       <td>8278127.709</td> <th>  Durbin-Watson:     </th>       <td>   2.000</td>      \n",
              "</tr>\n",
              "<tr>\n",
              "  <th>Prob(Omnibus):</th>   <td> 0.000</td>    <th>  Jarque-Bera (JB):  </th> <td>2301637517807696.500</td>\n",
              "</tr>\n",
              "<tr>\n",
              "  <th>Skew:</th>            <td>347.326</td>   <th>  Prob(JB):          </th>       <td>    0.00</td>      \n",
              "</tr>\n",
              "<tr>\n",
              "  <th>Kurtosis:</th>      <td>195002.976</td>  <th>  Cond. No.          </th>       <td>1.11e+03</td>      \n",
              "</tr>\n",
              "</table><br/><br/>Warnings:<br/>[1] Standard Errors assume that the covariance matrix of the errors is correctly specified.<br/>[2] The condition number is large, 1.11e+03. This might indicate that there are<br/>strong multicollinearity or other numerical problems."
            ],
            "text/plain": [
              "<class 'statsmodels.iolib.summary.Summary'>\n",
              "\"\"\"\n",
              "                                 OLS Regression Results                                \n",
              "=======================================================================================\n",
              "Dep. Variable:               duration   R-squared (uncentered):                   0.042\n",
              "Model:                            OLS   Adj. R-squared (uncentered):              0.042\n",
              "Method:                 Least Squares   F-statistic:                              6321.\n",
              "Date:                Mon, 26 Apr 2021   Prob (F-statistic):                        0.00\n",
              "Time:                        03:27:16   Log-Likelihood:                     -2.6013e+06\n",
              "No. Observations:             1452692   AIC:                                  5.203e+06\n",
              "Df Residuals:                 1452682   BIC:                                  5.203e+06\n",
              "Df Model:                          10                                                  \n",
              "Covariance Type:            nonrobust                                                  \n",
              "==============================================================================\n",
              "                 coef    std err          t      P>|t|      [0.025      0.975]\n",
              "------------------------------------------------------------------------------\n",
              "x1             0.0554      0.003     21.939      0.000       0.050       0.060\n",
              "x2             0.0110      0.005      2.295      0.022       0.002       0.020\n",
              "x3            -7.3565      0.756     -9.731      0.000      -8.838      -5.875\n",
              "x4             4.9528      0.364     13.596      0.000       4.239       5.667\n",
              "x5            -2.4564      0.457     -5.379      0.000      -3.351      -1.561\n",
              "x6            38.3035      0.362    105.860      0.000      37.594      39.013\n",
              "x7             0.0171      0.011      1.623      0.105      -0.004       0.038\n",
              "x8             0.0024      0.010      0.233      0.816      -0.018       0.023\n",
              "x9             0.0143      0.002      5.955      0.000       0.010       0.019\n",
              "x10            0.0144      0.016      0.879      0.379      -0.018       0.046\n",
              "================================================================================\n",
              "Omnibus:                  8278127.709   Durbin-Watson:                     2.000\n",
              "Prob(Omnibus):                  0.000   Jarque-Bera (JB):   2301637517807696.500\n",
              "Skew:                         347.326   Prob(JB):                           0.00\n",
              "Kurtosis:                  195002.976   Cond. No.                       1.11e+03\n",
              "================================================================================\n",
              "\n",
              "Warnings:\n",
              "[1] Standard Errors assume that the covariance matrix of the errors is correctly specified.\n",
              "[2] The condition number is large, 1.11e+03. This might indicate that there are\n",
              "strong multicollinearity or other numerical problems.\n",
              "\"\"\""
            ]
          },
          "metadata": {
            "tags": []
          },
          "execution_count": 0
        }
      ]
    },
    {
      "cell_type": "code",
      "metadata": {
        "colab": {
          "background_save": true
        },
        "id": "3GTGYnZFY2rn",
        "outputId": "71f8ae1c-1d9e-4d84-81e6-e48bc4b97c76"
      },
      "source": [
        "# remove the 8th column as it has the highest value\n",
        "x_opt = x[:, [1, 2, 4, 5, 6, 7, 9, 10, 11, 12]]\n",
        "ols = sm.OLS(endog = y, exog = x_opt).fit()\n",
        "ols.summary()"
      ],
      "execution_count": null,
      "outputs": [
        {
          "output_type": "execute_result",
          "data": {
            "text/html": [
              "<table class=\"simpletable\">\n",
              "<caption>OLS Regression Results</caption>\n",
              "<tr>\n",
              "  <th>Dep. Variable:</th>        <td>duration</td>     <th>  R-squared (uncentered):</th>       <td>   0.042</td>  \n",
              "</tr>\n",
              "<tr>\n",
              "  <th>Model:</th>                   <td>OLS</td>       <th>  Adj. R-squared (uncentered):</th>  <td>   0.042</td>  \n",
              "</tr>\n",
              "<tr>\n",
              "  <th>Method:</th>             <td>Least Squares</td>  <th>  F-statistic:       </th>           <td>   6394.</td>  \n",
              "</tr>\n",
              "<tr>\n",
              "  <th>Date:</th>             <td>Mon, 26 Apr 2021</td> <th>  Prob (F-statistic):</th>            <td>  0.00</td>   \n",
              "</tr>\n",
              "<tr>\n",
              "  <th>Time:</th>                 <td>03:27:18</td>     <th>  Log-Likelihood:    </th>          <td>-2.6010e+06</td>\n",
              "</tr>\n",
              "<tr>\n",
              "  <th>No. Observations:</th>      <td>1452692</td>     <th>  AIC:               </th>           <td>5.202e+06</td> \n",
              "</tr>\n",
              "<tr>\n",
              "  <th>Df Residuals:</th>          <td>1452682</td>     <th>  BIC:               </th>           <td>5.202e+06</td> \n",
              "</tr>\n",
              "<tr>\n",
              "  <th>Df Model:</th>              <td>    10</td>      <th>                     </th>               <td> </td>     \n",
              "</tr>\n",
              "<tr>\n",
              "  <th>Covariance Type:</th>      <td>nonrobust</td>    <th>                     </th>               <td> </td>     \n",
              "</tr>\n",
              "</table>\n",
              "<table class=\"simpletable\">\n",
              "<tr>\n",
              "   <td></td>      <th>coef</th>     <th>std err</th>      <th>t</th>      <th>P>|t|</th>  <th>[0.025</th>    <th>0.975]</th>  \n",
              "</tr>\n",
              "<tr>\n",
              "  <th>x1</th>  <td>    0.0554</td> <td>    0.003</td> <td>   21.952</td> <td> 0.000</td> <td>    0.050</td> <td>    0.060</td>\n",
              "</tr>\n",
              "<tr>\n",
              "  <th>x2</th>  <td>    0.0110</td> <td>    0.005</td> <td>    2.309</td> <td> 0.021</td> <td>    0.002</td> <td>    0.020</td>\n",
              "</tr>\n",
              "<tr>\n",
              "  <th>x3</th>  <td>   -7.3532</td> <td>    0.756</td> <td>   -9.730</td> <td> 0.000</td> <td>   -8.834</td> <td>   -5.872</td>\n",
              "</tr>\n",
              "<tr>\n",
              "  <th>x4</th>  <td>    4.9359</td> <td>    0.364</td> <td>   13.554</td> <td> 0.000</td> <td>    4.222</td> <td>    5.650</td>\n",
              "</tr>\n",
              "<tr>\n",
              "  <th>x5</th>  <td>   -2.4378</td> <td>    0.457</td> <td>   -5.340</td> <td> 0.000</td> <td>   -3.333</td> <td>   -1.543</td>\n",
              "</tr>\n",
              "<tr>\n",
              "  <th>x6</th>  <td>   38.2187</td> <td>    0.362</td> <td>  105.647</td> <td> 0.000</td> <td>   37.510</td> <td>   38.928</td>\n",
              "</tr>\n",
              "<tr>\n",
              "  <th>x7</th>  <td>    0.0202</td> <td>    0.004</td> <td>    5.749</td> <td> 0.000</td> <td>    0.013</td> <td>    0.027</td>\n",
              "</tr>\n",
              "<tr>\n",
              "  <th>x8</th>  <td>   -2.4765</td> <td>    0.094</td> <td>  -26.387</td> <td> 0.000</td> <td>   -2.660</td> <td>   -2.293</td>\n",
              "</tr>\n",
              "<tr>\n",
              "  <th>x9</th>  <td>    4.9817</td> <td>    0.188</td> <td>   26.549</td> <td> 0.000</td> <td>    4.614</td> <td>    5.349</td>\n",
              "</tr>\n",
              "<tr>\n",
              "  <th>x10</th> <td>    0.0149</td> <td>    0.016</td> <td>    0.909</td> <td> 0.363</td> <td>   -0.017</td> <td>    0.047</td>\n",
              "</tr>\n",
              "</table>\n",
              "<table class=\"simpletable\">\n",
              "<tr>\n",
              "  <th>Omnibus:</th>       <td>8279620.733</td> <th>  Durbin-Watson:     </th>       <td>   2.000</td>      \n",
              "</tr>\n",
              "<tr>\n",
              "  <th>Prob(Omnibus):</th>   <td> 0.000</td>    <th>  Jarque-Bera (JB):  </th> <td>2306191195834179.500</td>\n",
              "</tr>\n",
              "<tr>\n",
              "  <th>Skew:</th>            <td>347.562</td>   <th>  Prob(JB):          </th>       <td>    0.00</td>      \n",
              "</tr>\n",
              "<tr>\n",
              "  <th>Kurtosis:</th>      <td>195195.780</td>  <th>  Cond. No.          </th>       <td>1.05e+03</td>      \n",
              "</tr>\n",
              "</table><br/><br/>Warnings:<br/>[1] Standard Errors assume that the covariance matrix of the errors is correctly specified.<br/>[2] The condition number is large, 1.05e+03. This might indicate that there are<br/>strong multicollinearity or other numerical problems."
            ],
            "text/plain": [
              "<class 'statsmodels.iolib.summary.Summary'>\n",
              "\"\"\"\n",
              "                                 OLS Regression Results                                \n",
              "=======================================================================================\n",
              "Dep. Variable:               duration   R-squared (uncentered):                   0.042\n",
              "Model:                            OLS   Adj. R-squared (uncentered):              0.042\n",
              "Method:                 Least Squares   F-statistic:                              6394.\n",
              "Date:                Mon, 26 Apr 2021   Prob (F-statistic):                        0.00\n",
              "Time:                        03:27:18   Log-Likelihood:                     -2.6010e+06\n",
              "No. Observations:             1452692   AIC:                                  5.202e+06\n",
              "Df Residuals:                 1452682   BIC:                                  5.202e+06\n",
              "Df Model:                          10                                                  \n",
              "Covariance Type:            nonrobust                                                  \n",
              "==============================================================================\n",
              "                 coef    std err          t      P>|t|      [0.025      0.975]\n",
              "------------------------------------------------------------------------------\n",
              "x1             0.0554      0.003     21.952      0.000       0.050       0.060\n",
              "x2             0.0110      0.005      2.309      0.021       0.002       0.020\n",
              "x3            -7.3532      0.756     -9.730      0.000      -8.834      -5.872\n",
              "x4             4.9359      0.364     13.554      0.000       4.222       5.650\n",
              "x5            -2.4378      0.457     -5.340      0.000      -3.333      -1.543\n",
              "x6            38.2187      0.362    105.647      0.000      37.510      38.928\n",
              "x7             0.0202      0.004      5.749      0.000       0.013       0.027\n",
              "x8            -2.4765      0.094    -26.387      0.000      -2.660      -2.293\n",
              "x9             4.9817      0.188     26.549      0.000       4.614       5.349\n",
              "x10            0.0149      0.016      0.909      0.363      -0.017       0.047\n",
              "================================================================================\n",
              "Omnibus:                  8279620.733   Durbin-Watson:                     2.000\n",
              "Prob(Omnibus):                  0.000   Jarque-Bera (JB):   2306191195834179.500\n",
              "Skew:                         347.562   Prob(JB):                           0.00\n",
              "Kurtosis:                  195195.780   Cond. No.                       1.05e+03\n",
              "================================================================================\n",
              "\n",
              "Warnings:\n",
              "[1] Standard Errors assume that the covariance matrix of the errors is correctly specified.\n",
              "[2] The condition number is large, 1.05e+03. This might indicate that there are\n",
              "strong multicollinearity or other numerical problems.\n",
              "\"\"\""
            ]
          },
          "metadata": {
            "tags": []
          },
          "execution_count": 0
        }
      ]
    },
    {
      "cell_type": "code",
      "metadata": {
        "colab": {
          "background_save": true
        },
        "id": "LQYvcCBEZ8SM",
        "outputId": "6c6e0a20-dbee-43f6-db79-091edfbe1d80"
      },
      "source": [
        "# remove the 10th column as it has the highest value\n",
        "x_opt = x[:, [1, 2, 4, 5, 6, 7, 9, 11, 12]]\n",
        "ols = sm.OLS(endog = y, exog = x_opt).fit()\n",
        "ols.summary()"
      ],
      "execution_count": null,
      "outputs": [
        {
          "output_type": "execute_result",
          "data": {
            "text/html": [
              "<table class=\"simpletable\">\n",
              "<caption>OLS Regression Results</caption>\n",
              "<tr>\n",
              "  <th>Dep. Variable:</th>        <td>duration</td>     <th>  R-squared (uncentered):</th>       <td>   0.042</td>  \n",
              "</tr>\n",
              "<tr>\n",
              "  <th>Model:</th>                   <td>OLS</td>       <th>  Adj. R-squared (uncentered):</th>  <td>   0.042</td>  \n",
              "</tr>\n",
              "<tr>\n",
              "  <th>Method:</th>             <td>Least Squares</td>  <th>  F-statistic:       </th>           <td>   7023.</td>  \n",
              "</tr>\n",
              "<tr>\n",
              "  <th>Date:</th>             <td>Mon, 26 Apr 2021</td> <th>  Prob (F-statistic):</th>            <td>  0.00</td>   \n",
              "</tr>\n",
              "<tr>\n",
              "  <th>Time:</th>                 <td>03:27:19</td>     <th>  Log-Likelihood:    </th>          <td>-2.6013e+06</td>\n",
              "</tr>\n",
              "<tr>\n",
              "  <th>No. Observations:</th>      <td>1452692</td>     <th>  AIC:               </th>           <td>5.203e+06</td> \n",
              "</tr>\n",
              "<tr>\n",
              "  <th>Df Residuals:</th>          <td>1452683</td>     <th>  BIC:               </th>           <td>5.203e+06</td> \n",
              "</tr>\n",
              "<tr>\n",
              "  <th>Df Model:</th>              <td>     9</td>      <th>                     </th>               <td> </td>     \n",
              "</tr>\n",
              "<tr>\n",
              "  <th>Covariance Type:</th>      <td>nonrobust</td>    <th>                     </th>               <td> </td>     \n",
              "</tr>\n",
              "</table>\n",
              "<table class=\"simpletable\">\n",
              "<tr>\n",
              "   <td></td>     <th>coef</th>     <th>std err</th>      <th>t</th>      <th>P>|t|</th>  <th>[0.025</th>    <th>0.975]</th>  \n",
              "</tr>\n",
              "<tr>\n",
              "  <th>x1</th> <td>    0.0554</td> <td>    0.003</td> <td>   21.943</td> <td> 0.000</td> <td>    0.050</td> <td>    0.060</td>\n",
              "</tr>\n",
              "<tr>\n",
              "  <th>x2</th> <td>    0.0110</td> <td>    0.005</td> <td>    2.301</td> <td> 0.021</td> <td>    0.002</td> <td>    0.020</td>\n",
              "</tr>\n",
              "<tr>\n",
              "  <th>x3</th> <td>   -7.3741</td> <td>    0.756</td> <td>   -9.755</td> <td> 0.000</td> <td>   -8.856</td> <td>   -5.892</td>\n",
              "</tr>\n",
              "<tr>\n",
              "  <th>x4</th> <td>    4.9592</td> <td>    0.364</td> <td>   13.615</td> <td> 0.000</td> <td>    4.245</td> <td>    5.673</td>\n",
              "</tr>\n",
              "<tr>\n",
              "  <th>x5</th> <td>   -2.4563</td> <td>    0.457</td> <td>   -5.379</td> <td> 0.000</td> <td>   -3.351</td> <td>   -1.561</td>\n",
              "</tr>\n",
              "<tr>\n",
              "  <th>x6</th> <td>   38.3015</td> <td>    0.362</td> <td>  105.855</td> <td> 0.000</td> <td>   37.592</td> <td>   39.011</td>\n",
              "</tr>\n",
              "<tr>\n",
              "  <th>x7</th> <td>    0.0184</td> <td>    0.004</td> <td>    5.249</td> <td> 0.000</td> <td>    0.012</td> <td>    0.025</td>\n",
              "</tr>\n",
              "<tr>\n",
              "  <th>x8</th> <td>    0.0319</td> <td>    0.005</td> <td>    6.636</td> <td> 0.000</td> <td>    0.023</td> <td>    0.041</td>\n",
              "</tr>\n",
              "<tr>\n",
              "  <th>x9</th> <td>    0.0143</td> <td>    0.016</td> <td>    0.877</td> <td> 0.381</td> <td>   -0.018</td> <td>    0.046</td>\n",
              "</tr>\n",
              "</table>\n",
              "<table class=\"simpletable\">\n",
              "<tr>\n",
              "  <th>Omnibus:</th>       <td>8278170.653</td> <th>  Durbin-Watson:     </th>       <td>   2.000</td>      \n",
              "</tr>\n",
              "<tr>\n",
              "  <th>Prob(Omnibus):</th>   <td> 0.000</td>    <th>  Jarque-Bera (JB):  </th> <td>2301772173122145.000</td>\n",
              "</tr>\n",
              "<tr>\n",
              "  <th>Skew:</th>            <td>347.333</td>   <th>  Prob(JB):          </th>       <td>    0.00</td>      \n",
              "</tr>\n",
              "<tr>\n",
              "  <th>Kurtosis:</th>      <td>195008.680</td>  <th>  Cond. No.          </th>       <td>    991.</td>      \n",
              "</tr>\n",
              "</table><br/><br/>Warnings:<br/>[1] Standard Errors assume that the covariance matrix of the errors is correctly specified."
            ],
            "text/plain": [
              "<class 'statsmodels.iolib.summary.Summary'>\n",
              "\"\"\"\n",
              "                                 OLS Regression Results                                \n",
              "=======================================================================================\n",
              "Dep. Variable:               duration   R-squared (uncentered):                   0.042\n",
              "Model:                            OLS   Adj. R-squared (uncentered):              0.042\n",
              "Method:                 Least Squares   F-statistic:                              7023.\n",
              "Date:                Mon, 26 Apr 2021   Prob (F-statistic):                        0.00\n",
              "Time:                        03:27:19   Log-Likelihood:                     -2.6013e+06\n",
              "No. Observations:             1452692   AIC:                                  5.203e+06\n",
              "Df Residuals:                 1452683   BIC:                                  5.203e+06\n",
              "Df Model:                           9                                                  \n",
              "Covariance Type:            nonrobust                                                  \n",
              "==============================================================================\n",
              "                 coef    std err          t      P>|t|      [0.025      0.975]\n",
              "------------------------------------------------------------------------------\n",
              "x1             0.0554      0.003     21.943      0.000       0.050       0.060\n",
              "x2             0.0110      0.005      2.301      0.021       0.002       0.020\n",
              "x3            -7.3741      0.756     -9.755      0.000      -8.856      -5.892\n",
              "x4             4.9592      0.364     13.615      0.000       4.245       5.673\n",
              "x5            -2.4563      0.457     -5.379      0.000      -3.351      -1.561\n",
              "x6            38.3015      0.362    105.855      0.000      37.592      39.011\n",
              "x7             0.0184      0.004      5.249      0.000       0.012       0.025\n",
              "x8             0.0319      0.005      6.636      0.000       0.023       0.041\n",
              "x9             0.0143      0.016      0.877      0.381      -0.018       0.046\n",
              "================================================================================\n",
              "Omnibus:                  8278170.653   Durbin-Watson:                     2.000\n",
              "Prob(Omnibus):                  0.000   Jarque-Bera (JB):   2301772173122145.000\n",
              "Skew:                         347.333   Prob(JB):                           0.00\n",
              "Kurtosis:                  195008.680   Cond. No.                           991.\n",
              "================================================================================\n",
              "\n",
              "Warnings:\n",
              "[1] Standard Errors assume that the covariance matrix of the errors is correctly specified.\n",
              "\"\"\""
            ]
          },
          "metadata": {
            "tags": []
          },
          "execution_count": 0
        }
      ]
    },
    {
      "cell_type": "code",
      "metadata": {
        "colab": {
          "background_save": true
        },
        "id": "HIuEACz0eJ4-",
        "outputId": "1346063c-04da-498a-a4b0-9cd3214eb173"
      },
      "source": [
        "# remove the 9th column as it has the highest value\n",
        "x_opt = x[:, [1, 2, 4, 5, 6, 7, 11, 12]]\n",
        "ols = sm.OLS(endog = y, exog = x_opt).fit()\n",
        "ols.summary()"
      ],
      "execution_count": null,
      "outputs": [
        {
          "output_type": "execute_result",
          "data": {
            "text/html": [
              "<table class=\"simpletable\">\n",
              "<caption>OLS Regression Results</caption>\n",
              "<tr>\n",
              "  <th>Dep. Variable:</th>        <td>duration</td>     <th>  R-squared (uncentered):</th>       <td>   0.042</td>  \n",
              "</tr>\n",
              "<tr>\n",
              "  <th>Model:</th>                   <td>OLS</td>       <th>  Adj. R-squared (uncentered):</th>  <td>   0.042</td>  \n",
              "</tr>\n",
              "<tr>\n",
              "  <th>Method:</th>             <td>Least Squares</td>  <th>  F-statistic:       </th>           <td>   7898.</td>  \n",
              "</tr>\n",
              "<tr>\n",
              "  <th>Date:</th>             <td>Mon, 26 Apr 2021</td> <th>  Prob (F-statistic):</th>            <td>  0.00</td>   \n",
              "</tr>\n",
              "<tr>\n",
              "  <th>Time:</th>                 <td>03:27:20</td>     <th>  Log-Likelihood:    </th>          <td>-2.6014e+06</td>\n",
              "</tr>\n",
              "<tr>\n",
              "  <th>No. Observations:</th>      <td>1452692</td>     <th>  AIC:               </th>           <td>5.203e+06</td> \n",
              "</tr>\n",
              "<tr>\n",
              "  <th>Df Residuals:</th>          <td>1452684</td>     <th>  BIC:               </th>           <td>5.203e+06</td> \n",
              "</tr>\n",
              "<tr>\n",
              "  <th>Df Model:</th>              <td>     8</td>      <th>                     </th>               <td> </td>     \n",
              "</tr>\n",
              "<tr>\n",
              "  <th>Covariance Type:</th>      <td>nonrobust</td>    <th>                     </th>               <td> </td>     \n",
              "</tr>\n",
              "</table>\n",
              "<table class=\"simpletable\">\n",
              "<tr>\n",
              "   <td></td>     <th>coef</th>     <th>std err</th>      <th>t</th>      <th>P>|t|</th>  <th>[0.025</th>    <th>0.975]</th>  \n",
              "</tr>\n",
              "<tr>\n",
              "  <th>x1</th> <td>    0.0555</td> <td>    0.003</td> <td>   21.979</td> <td> 0.000</td> <td>    0.051</td> <td>    0.060</td>\n",
              "</tr>\n",
              "<tr>\n",
              "  <th>x2</th> <td>    0.0112</td> <td>    0.005</td> <td>    2.337</td> <td> 0.019</td> <td>    0.002</td> <td>    0.021</td>\n",
              "</tr>\n",
              "<tr>\n",
              "  <th>x3</th> <td>   -7.3510</td> <td>    0.756</td> <td>   -9.725</td> <td> 0.000</td> <td>   -8.833</td> <td>   -5.869</td>\n",
              "</tr>\n",
              "<tr>\n",
              "  <th>x4</th> <td>    4.9314</td> <td>    0.364</td> <td>   13.540</td> <td> 0.000</td> <td>    4.218</td> <td>    5.645</td>\n",
              "</tr>\n",
              "<tr>\n",
              "  <th>x5</th> <td>   -2.4182</td> <td>    0.457</td> <td>   -5.296</td> <td> 0.000</td> <td>   -3.313</td> <td>   -1.523</td>\n",
              "</tr>\n",
              "<tr>\n",
              "  <th>x6</th> <td>   38.2746</td> <td>    0.362</td> <td>  105.790</td> <td> 0.000</td> <td>   37.566</td> <td>   38.984</td>\n",
              "</tr>\n",
              "<tr>\n",
              "  <th>x7</th> <td>    0.0318</td> <td>    0.005</td> <td>    6.608</td> <td> 0.000</td> <td>    0.022</td> <td>    0.041</td>\n",
              "</tr>\n",
              "<tr>\n",
              "  <th>x8</th> <td>    0.0147</td> <td>    0.016</td> <td>    0.897</td> <td> 0.370</td> <td>   -0.017</td> <td>    0.047</td>\n",
              "</tr>\n",
              "</table>\n",
              "<table class=\"simpletable\">\n",
              "<tr>\n",
              "  <th>Omnibus:</th>       <td>8278097.345</td> <th>  Durbin-Watson:     </th>       <td>   2.000</td>      \n",
              "</tr>\n",
              "<tr>\n",
              "  <th>Prob(Omnibus):</th>   <td> 0.000</td>    <th>  Jarque-Bera (JB):  </th> <td>2301586488422956.500</td>\n",
              "</tr>\n",
              "<tr>\n",
              "  <th>Skew:</th>            <td>347.321</td>   <th>  Prob(JB):          </th>       <td>    0.00</td>      \n",
              "</tr>\n",
              "<tr>\n",
              "  <th>Kurtosis:</th>      <td>195000.814</td>  <th>  Cond. No.          </th>       <td>    912.</td>      \n",
              "</tr>\n",
              "</table><br/><br/>Warnings:<br/>[1] Standard Errors assume that the covariance matrix of the errors is correctly specified."
            ],
            "text/plain": [
              "<class 'statsmodels.iolib.summary.Summary'>\n",
              "\"\"\"\n",
              "                                 OLS Regression Results                                \n",
              "=======================================================================================\n",
              "Dep. Variable:               duration   R-squared (uncentered):                   0.042\n",
              "Model:                            OLS   Adj. R-squared (uncentered):              0.042\n",
              "Method:                 Least Squares   F-statistic:                              7898.\n",
              "Date:                Mon, 26 Apr 2021   Prob (F-statistic):                        0.00\n",
              "Time:                        03:27:20   Log-Likelihood:                     -2.6014e+06\n",
              "No. Observations:             1452692   AIC:                                  5.203e+06\n",
              "Df Residuals:                 1452684   BIC:                                  5.203e+06\n",
              "Df Model:                           8                                                  \n",
              "Covariance Type:            nonrobust                                                  \n",
              "==============================================================================\n",
              "                 coef    std err          t      P>|t|      [0.025      0.975]\n",
              "------------------------------------------------------------------------------\n",
              "x1             0.0555      0.003     21.979      0.000       0.051       0.060\n",
              "x2             0.0112      0.005      2.337      0.019       0.002       0.021\n",
              "x3            -7.3510      0.756     -9.725      0.000      -8.833      -5.869\n",
              "x4             4.9314      0.364     13.540      0.000       4.218       5.645\n",
              "x5            -2.4182      0.457     -5.296      0.000      -3.313      -1.523\n",
              "x6            38.2746      0.362    105.790      0.000      37.566      38.984\n",
              "x7             0.0318      0.005      6.608      0.000       0.022       0.041\n",
              "x8             0.0147      0.016      0.897      0.370      -0.017       0.047\n",
              "================================================================================\n",
              "Omnibus:                  8278097.345   Durbin-Watson:                     2.000\n",
              "Prob(Omnibus):                  0.000   Jarque-Bera (JB):   2301586488422956.500\n",
              "Skew:                         347.321   Prob(JB):                           0.00\n",
              "Kurtosis:                  195000.814   Cond. No.                           912.\n",
              "================================================================================\n",
              "\n",
              "Warnings:\n",
              "[1] Standard Errors assume that the covariance matrix of the errors is correctly specified.\n",
              "\"\"\""
            ]
          },
          "metadata": {
            "tags": []
          },
          "execution_count": 0
        }
      ]
    },
    {
      "cell_type": "markdown",
      "metadata": {
        "id": "utjTaUuQ0TC4"
      },
      "source": [
        "All features that should be eliminated are done, hence now we need to fit our model and make Predictions"
      ]
    },
    {
      "cell_type": "code",
      "metadata": {
        "colab": {
          "background_save": true
        },
        "id": "49KXV_hT0R-L",
        "outputId": "ad951bcd-9a82-4d90-82d3-1ac4bb305691"
      },
      "source": [
        "from sklearn.linear_model import LinearRegression\n",
        "from sklearn.model_selection import train_test_split\n",
        "X_train,X_test,y_train,y_test=train_test_split(x_opt,y,test_size=0.3,random_state=0)\n",
        "new_model=LinearRegression()\n",
        "new_model.fit(X_train,y_train)\n",
        "y_pred=new_model.predict(X_test)\n",
        "print('Train Score: ', new_model.score(X_train, y_train))  \n",
        "print('Test Score: ', new_model.score(X_test, y_test))"
      ],
      "execution_count": null,
      "outputs": [
        {
          "output_type": "stream",
          "text": [
            "Train Score:  0.008111934892829575\n",
            "Test Score:  0.020039573389839416\n"
          ],
          "name": "stdout"
        }
      ]
    },
    {
      "cell_type": "code",
      "metadata": {
        "colab": {
          "background_save": true
        },
        "id": "agm5N9tzVNvI",
        "outputId": "96699521-9961-4aaa-b0e6-773d21e952dd"
      },
      "source": [
        "# train data\n",
        "plt.subplot(121)\n",
        "plt.scatter(X_train, y_train)\n",
        "plt.yscale('log')\n",
        "plt.title(\"Train data\")\n",
        "for i, degree in enumerate(degrees):    \n",
        "    plt.scatter(X_train, y_train_pred[:, i], s=15, label=str(degree))\n",
        "    plt.legend(loc='upper left')\n",
        "    \n",
        "# test data\n",
        "plt.subplot(122)\n",
        "plt.scatter(X_test, y_test)\n",
        "plt.yscale('log')\n",
        "plt.title(\"Test data\")\n",
        "for i, degree in enumerate(degrees):    \n",
        "    plt.scatter(X_test, y_test_pred[:, i], label=str(degree))\n",
        "    plt.legend(loc='upper left')"
      ],
      "execution_count": null,
      "outputs": [
        {
          "output_type": "error",
          "ename": "ValueError",
          "evalue": "ignored",
          "traceback": [
            "\u001b[0;31m---------------------------------------------------------------------------\u001b[0m",
            "\u001b[0;31mValueError\u001b[0m                                Traceback (most recent call last)",
            "\u001b[0;32m<ipython-input-58-544cffbf330b>\u001b[0m in \u001b[0;36m<module>\u001b[0;34m()\u001b[0m\n\u001b[1;32m      1\u001b[0m \u001b[0;31m# train data\u001b[0m\u001b[0;34m\u001b[0m\u001b[0;34m\u001b[0m\u001b[0;34m\u001b[0m\u001b[0m\n\u001b[1;32m      2\u001b[0m \u001b[0mplt\u001b[0m\u001b[0;34m.\u001b[0m\u001b[0msubplot\u001b[0m\u001b[0;34m(\u001b[0m\u001b[0;36m121\u001b[0m\u001b[0;34m)\u001b[0m\u001b[0;34m\u001b[0m\u001b[0;34m\u001b[0m\u001b[0m\n\u001b[0;32m----> 3\u001b[0;31m \u001b[0mplt\u001b[0m\u001b[0;34m.\u001b[0m\u001b[0mscatter\u001b[0m\u001b[0;34m(\u001b[0m\u001b[0mX_train\u001b[0m\u001b[0;34m,\u001b[0m \u001b[0my_train\u001b[0m\u001b[0;34m)\u001b[0m\u001b[0;34m\u001b[0m\u001b[0;34m\u001b[0m\u001b[0m\n\u001b[0m\u001b[1;32m      4\u001b[0m \u001b[0mplt\u001b[0m\u001b[0;34m.\u001b[0m\u001b[0myscale\u001b[0m\u001b[0;34m(\u001b[0m\u001b[0;34m'log'\u001b[0m\u001b[0;34m)\u001b[0m\u001b[0;34m\u001b[0m\u001b[0;34m\u001b[0m\u001b[0m\n\u001b[1;32m      5\u001b[0m \u001b[0mplt\u001b[0m\u001b[0;34m.\u001b[0m\u001b[0mtitle\u001b[0m\u001b[0;34m(\u001b[0m\u001b[0;34m\"Train data\"\u001b[0m\u001b[0;34m)\u001b[0m\u001b[0;34m\u001b[0m\u001b[0;34m\u001b[0m\u001b[0m\n",
            "\u001b[0;32m/usr/local/lib/python3.7/dist-packages/matplotlib/pyplot.py\u001b[0m in \u001b[0;36mscatter\u001b[0;34m(x, y, s, c, marker, cmap, norm, vmin, vmax, alpha, linewidths, verts, edgecolors, plotnonfinite, data, **kwargs)\u001b[0m\n\u001b[1;32m   2814\u001b[0m         \u001b[0mverts\u001b[0m\u001b[0;34m=\u001b[0m\u001b[0mverts\u001b[0m\u001b[0;34m,\u001b[0m \u001b[0medgecolors\u001b[0m\u001b[0;34m=\u001b[0m\u001b[0medgecolors\u001b[0m\u001b[0;34m,\u001b[0m\u001b[0;34m\u001b[0m\u001b[0;34m\u001b[0m\u001b[0m\n\u001b[1;32m   2815\u001b[0m         plotnonfinite=plotnonfinite, **({\"data\": data} if data is not\n\u001b[0;32m-> 2816\u001b[0;31m         None else {}), **kwargs)\n\u001b[0m\u001b[1;32m   2817\u001b[0m     \u001b[0msci\u001b[0m\u001b[0;34m(\u001b[0m\u001b[0m__ret\u001b[0m\u001b[0;34m)\u001b[0m\u001b[0;34m\u001b[0m\u001b[0;34m\u001b[0m\u001b[0m\n\u001b[1;32m   2818\u001b[0m     \u001b[0;32mreturn\u001b[0m \u001b[0m__ret\u001b[0m\u001b[0;34m\u001b[0m\u001b[0;34m\u001b[0m\u001b[0m\n",
            "\u001b[0;32m/usr/local/lib/python3.7/dist-packages/matplotlib/__init__.py\u001b[0m in \u001b[0;36minner\u001b[0;34m(ax, data, *args, **kwargs)\u001b[0m\n\u001b[1;32m   1563\u001b[0m     \u001b[0;32mdef\u001b[0m \u001b[0minner\u001b[0m\u001b[0;34m(\u001b[0m\u001b[0max\u001b[0m\u001b[0;34m,\u001b[0m \u001b[0;34m*\u001b[0m\u001b[0margs\u001b[0m\u001b[0;34m,\u001b[0m \u001b[0mdata\u001b[0m\u001b[0;34m=\u001b[0m\u001b[0;32mNone\u001b[0m\u001b[0;34m,\u001b[0m \u001b[0;34m**\u001b[0m\u001b[0mkwargs\u001b[0m\u001b[0;34m)\u001b[0m\u001b[0;34m:\u001b[0m\u001b[0;34m\u001b[0m\u001b[0;34m\u001b[0m\u001b[0m\n\u001b[1;32m   1564\u001b[0m         \u001b[0;32mif\u001b[0m \u001b[0mdata\u001b[0m \u001b[0;32mis\u001b[0m \u001b[0;32mNone\u001b[0m\u001b[0;34m:\u001b[0m\u001b[0;34m\u001b[0m\u001b[0;34m\u001b[0m\u001b[0m\n\u001b[0;32m-> 1565\u001b[0;31m             \u001b[0;32mreturn\u001b[0m \u001b[0mfunc\u001b[0m\u001b[0;34m(\u001b[0m\u001b[0max\u001b[0m\u001b[0;34m,\u001b[0m \u001b[0;34m*\u001b[0m\u001b[0mmap\u001b[0m\u001b[0;34m(\u001b[0m\u001b[0msanitize_sequence\u001b[0m\u001b[0;34m,\u001b[0m \u001b[0margs\u001b[0m\u001b[0;34m)\u001b[0m\u001b[0;34m,\u001b[0m \u001b[0;34m**\u001b[0m\u001b[0mkwargs\u001b[0m\u001b[0;34m)\u001b[0m\u001b[0;34m\u001b[0m\u001b[0;34m\u001b[0m\u001b[0m\n\u001b[0m\u001b[1;32m   1566\u001b[0m \u001b[0;34m\u001b[0m\u001b[0m\n\u001b[1;32m   1567\u001b[0m         \u001b[0mbound\u001b[0m \u001b[0;34m=\u001b[0m \u001b[0mnew_sig\u001b[0m\u001b[0;34m.\u001b[0m\u001b[0mbind\u001b[0m\u001b[0;34m(\u001b[0m\u001b[0max\u001b[0m\u001b[0;34m,\u001b[0m \u001b[0;34m*\u001b[0m\u001b[0margs\u001b[0m\u001b[0;34m,\u001b[0m \u001b[0;34m**\u001b[0m\u001b[0mkwargs\u001b[0m\u001b[0;34m)\u001b[0m\u001b[0;34m\u001b[0m\u001b[0;34m\u001b[0m\u001b[0m\n",
            "\u001b[0;32m/usr/local/lib/python3.7/dist-packages/matplotlib/cbook/deprecation.py\u001b[0m in \u001b[0;36mwrapper\u001b[0;34m(*args, **kwargs)\u001b[0m\n\u001b[1;32m    356\u001b[0m                 \u001b[0;34mf\"%(removal)s.  If any parameter follows {name!r}, they \"\u001b[0m\u001b[0;34m\u001b[0m\u001b[0;34m\u001b[0m\u001b[0m\n\u001b[1;32m    357\u001b[0m                 f\"should be pass as keyword, not positionally.\")\n\u001b[0;32m--> 358\u001b[0;31m         \u001b[0;32mreturn\u001b[0m \u001b[0mfunc\u001b[0m\u001b[0;34m(\u001b[0m\u001b[0;34m*\u001b[0m\u001b[0margs\u001b[0m\u001b[0;34m,\u001b[0m \u001b[0;34m**\u001b[0m\u001b[0mkwargs\u001b[0m\u001b[0;34m)\u001b[0m\u001b[0;34m\u001b[0m\u001b[0;34m\u001b[0m\u001b[0m\n\u001b[0m\u001b[1;32m    359\u001b[0m \u001b[0;34m\u001b[0m\u001b[0m\n\u001b[1;32m    360\u001b[0m     \u001b[0;32mreturn\u001b[0m \u001b[0mwrapper\u001b[0m\u001b[0;34m\u001b[0m\u001b[0;34m\u001b[0m\u001b[0m\n",
            "\u001b[0;32m/usr/local/lib/python3.7/dist-packages/matplotlib/axes/_axes.py\u001b[0m in \u001b[0;36mscatter\u001b[0;34m(self, x, y, s, c, marker, cmap, norm, vmin, vmax, alpha, linewidths, verts, edgecolors, plotnonfinite, **kwargs)\u001b[0m\n\u001b[1;32m   4389\u001b[0m         \u001b[0my\u001b[0m \u001b[0;34m=\u001b[0m \u001b[0mnp\u001b[0m\u001b[0;34m.\u001b[0m\u001b[0mma\u001b[0m\u001b[0;34m.\u001b[0m\u001b[0mravel\u001b[0m\u001b[0;34m(\u001b[0m\u001b[0my\u001b[0m\u001b[0;34m)\u001b[0m\u001b[0;34m\u001b[0m\u001b[0;34m\u001b[0m\u001b[0m\n\u001b[1;32m   4390\u001b[0m         \u001b[0;32mif\u001b[0m \u001b[0mx\u001b[0m\u001b[0;34m.\u001b[0m\u001b[0msize\u001b[0m \u001b[0;34m!=\u001b[0m \u001b[0my\u001b[0m\u001b[0;34m.\u001b[0m\u001b[0msize\u001b[0m\u001b[0;34m:\u001b[0m\u001b[0;34m\u001b[0m\u001b[0;34m\u001b[0m\u001b[0m\n\u001b[0;32m-> 4391\u001b[0;31m             \u001b[0;32mraise\u001b[0m \u001b[0mValueError\u001b[0m\u001b[0;34m(\u001b[0m\u001b[0;34m\"x and y must be the same size\"\u001b[0m\u001b[0;34m)\u001b[0m\u001b[0;34m\u001b[0m\u001b[0;34m\u001b[0m\u001b[0m\n\u001b[0m\u001b[1;32m   4392\u001b[0m \u001b[0;34m\u001b[0m\u001b[0m\n\u001b[1;32m   4393\u001b[0m         \u001b[0;32mif\u001b[0m \u001b[0ms\u001b[0m \u001b[0;32mis\u001b[0m \u001b[0;32mNone\u001b[0m\u001b[0;34m:\u001b[0m\u001b[0;34m\u001b[0m\u001b[0;34m\u001b[0m\u001b[0m\n",
            "\u001b[0;31mValueError\u001b[0m: x and y must be the same size"
          ]
        },
        {
          "output_type": "display_data",
          "data": {
            "image/png": "[encoded data removed]",
            "text/plain": [
              "<Figure size 842.4x595.44 with 1 Axes>"
            ]
          },
          "metadata": {
            "tags": []
          }
        }
      ]
    },
    {
      "cell_type": "markdown",
      "metadata": {
        "id": "UWvLFu7pstlw"
      },
      "source": [
        "**Decision Tree Regressor Modelling**"
      ]
    },
    {
      "cell_type": "code",
      "metadata": {
        "colab": {
          "background_save": true
        },
        "id": "shTkowkgss_0"
      },
      "source": [
        "from sklearn.tree import DecisionTreeRegressor\n",
        "\n",
        "tree = DecisionTreeRegressor()\n",
        "\n",
        "# Fit to training data\n",
        "tree.fit(X_train,y_train)\n",
        "print(tree)\n",
        "\n",
        "# Predict\n",
        "y_pred_tree = tree.predict(X_test)\n",
        "\n",
        "# Score \n",
        "from sklearn import metrics\n",
        "print('\\nDecision Tree Regression Performance Metrics')\n",
        "print('R^2=',metrics.explained_variance_score(y_test,y_pred_tree))\n",
        "print('MAE:',metrics.mean_absolute_error(y_test,y_pred_tree))\n",
        "print('MSE:',metrics.mean_squared_error(y_test,y_pred_tree))\n",
        "print('RMSE:',np.sqrt(metrics.mean_squared_error(y_test,y_pred_tree)))"
      ],
      "execution_count": null,
      "outputs": []
    },
    {
      "cell_type": "markdown",
      "metadata": {
        "id": "LgeMbvqoxb84"
      },
      "source": [
        "**Random Forest Regressor**"
      ]
    },
    {
      "cell_type": "code",
      "metadata": {
        "colab": {
          "background_save": true
        },
        "id": "hQlioS_hsm3F"
      },
      "source": [
        "from sklearn.ensemble import RandomForestRegressor \n",
        "\n",
        "rforest = RandomForestRegressor(n_estimators = 20, n_jobs = -1)\n",
        "\n",
        "# Fit to training data\n",
        "rforest = rforest.fit(X_train,y_train)\n",
        "print(rforest)\n",
        "\n",
        "# Predict\n",
        "y_pred_rforest = rforest.predict(X_test)\n",
        "\n",
        "# Score\n",
        "from sklearn import metrics\n",
        "print('\\nRandom Forest Regression Performance Metrics')\n",
        "print('R^2 =',metrics.explained_variance_score(y_test,y_pred_rforest))\n",
        "print('MAE',metrics.mean_absolute_error(y_test, y_pred_rforest))\n",
        "print('MSE',metrics.mean_squared_error(y_test, y_pred_rforest))\n",
        "print('RMSE',np.sqrt(metrics.mean_squared_error(y_test, y_pred_rforest)))"
      ],
      "execution_count": null,
      "outputs": []
    },
    {
      "cell_type": "code",
      "metadata": {
        "colab": {
          "background_save": true
        },
        "id": "c4x0b9jbGp9b"
      },
      "source": [
        ""
      ],
      "execution_count": null,
      "outputs": []
    },
    {
      "cell_type": "code",
      "metadata": {
        "colab": {
          "background_save": true
        },
        "id": "jCN7ErHNqo_o"
      },
      "source": [
        "from sklearn import neighbors\n",
        "from math import sqrt"
      ],
      "execution_count": null,
      "outputs": []
    },
    {
      "cell_type": "code",
      "metadata": {
        "colab": {
          "background_save": true
        },
        "id": "gPodOx_mplVL"
      },
      "source": [
        "# scaling features\n",
        "scaler = MinMaxScaler(feature_range=(0, 1))\n",
        "\n",
        "x_train_scaled = scaler.fit_transform(x_train)\n",
        "x_train = pd.DataFrame(x_train_scaled)\n",
        "\n",
        "x_test_scaled = scaler.fit_transform(x_test)\n",
        "x_test = pd.DataFrame(x_test_scaled)"
      ],
      "execution_count": null,
      "outputs": []
    }
  ]
}